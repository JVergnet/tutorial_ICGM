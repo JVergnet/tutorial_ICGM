{
 "cells": [
  {
   "cell_type": "markdown",
   "metadata": {},
   "source": [
    "# Object oriented Programming \n",
    "## Encapsulation, Inheritance and Polymorphism\n"
   ]
  },
  {
   "cell_type": "markdown",
   "metadata": {
    "tags": []
   },
   "source": [
    "## Introduction \n",
    "![http://www.wasdarwinwrong.com/images/25-12-CladisticsTaxonomy-L.jpg](taxonomy.jpg)\n"
   ]
  },
  {
   "cell_type": "markdown",
   "metadata": {},
   "source": [
    "### Reminder from the previous lesson"
   ]
  },
  {
   "cell_type": "code",
   "execution_count": null,
   "metadata": {},
   "outputs": [],
   "source": [
    "class Mammal  \n",
    "    public species                     \n",
    "    public food                       \n",
    "    public has_hairs                    \n",
    "\n",
    "    public prodecure new(speciesName, diet) \n",
    "        has_hairs = True \n",
    "        \n",
    "        species = speciesName\n",
    "        food = diet\n",
    "\n",
    "    endprodecure\n",
    "\n",
    "    public prodecure eat()              \n",
    "        print(species+\" eats \"+food)\n",
    "    endprodecure\n",
    "\n",
    "endclass"
   ]
  },
  {
   "cell_type": "markdown",
   "metadata": {},
   "source": [
    "Create a Mammal instance for a horse (use Instanciation method with __new__ keyword)"
   ]
  },
  {
   "cell_type": "code",
   "execution_count": null,
   "metadata": {},
   "outputs": [],
   "source": []
  },
  {
   "cell_type": "markdown",
   "metadata": {},
   "source": [
    "Use an instance method via __instance.method(argument)__ "
   ]
  },
  {
   "cell_type": "code",
   "execution_count": null,
   "metadata": {},
   "outputs": [],
   "source": []
  },
  {
   "cell_type": "markdown",
   "metadata": {},
   "source": [
    "Acess an instance (public) attribute via __instance.attribute__ "
   ]
  },
  {
   "cell_type": "code",
   "execution_count": null,
   "metadata": {},
   "outputs": [],
   "source": []
  },
  {
   "cell_type": "markdown",
   "metadata": {},
   "source": [
    "### Encapsulation (p.322) "
   ]
  },
  {
   "cell_type": "code",
   "execution_count": null,
   "metadata": {},
   "outputs": [],
   "source": [
    "horse_A = new Mammal(\"horse\", \"grass\")\n",
    "horse_B = new Mammal(\"horse\", \"hay\")\n",
    "\n",
    "print(horse_A.eat())     # returns \"horse eats grass\"\n",
    "print(horse_B.eat())     # returns \"horse eats hay\"\n",
    "\n",
    "horse_A.food=\"coconut\"\n",
    "print(horse_A.eat())     # returns \"horse eats coconut\"\n",
    "print(horse_B.eat())     # returns \"horse eats hay\"\n"
   ]
  },
  {
   "cell_type": "markdown",
   "metadata": {},
   "source": [
    "### Subclasses and inheritance (p.323)"
   ]
  },
  {
   "cell_type": "code",
   "execution_count": null,
   "metadata": {},
   "outputs": [],
   "source": [
    "class Carnivore inherits Mammal\n",
    "\n",
    "    public procedure new(speciesName)\n",
    "        super.new(speciesName, \"meat\")\n",
    "    endprocedure\n",
    "\n",
    "endclass"
   ]
  },
  {
   "cell_type": "code",
   "execution_count": null,
   "metadata": {},
   "outputs": [],
   "source": [
    "wolf = new Carnivore(\"wolf\")"
   ]
  },
  {
   "cell_type": "code",
   "execution_count": null,
   "metadata": {},
   "outputs": [],
   "source": [
    "wolf.eat()      # returns \"wolf eats meat\"\n",
    "wolf.has_hairs  # returns True"
   ]
  },
  {
   "cell_type": "markdown",
   "metadata": {},
   "source": [
    "The parent methods can also be overwritten."
   ]
  },
  {
   "cell_type": "code",
   "execution_count": null,
   "metadata": {},
   "outputs": [],
   "source": [
    "class Carnivore inherits Mammal\n",
    "\n",
    "    public procedure new(speciesName)\n",
    "        super.new(speciesName, \"meat\")\n",
    "    endprocedure\n",
    "\n",
    "    public prodecure eat()\n",
    "        print(species + \"eats fresh meat. Frightening ! \")\n",
    "    endprodecure\n",
    "\n",
    "endclass"
   ]
  },
  {
   "cell_type": "code",
   "execution_count": null,
   "metadata": {},
   "outputs": [],
   "source": [
    "wolf = new Carnivore(\"wolf\")\n",
    "wolf.eat()              # returns \"wolf eats fresh meat. Frightening ! \""
   ]
  },
  {
   "cell_type": "markdown",
   "metadata": {},
   "source": [
    "Subclasses can themselves have children classes."
   ]
  },
  {
   "cell_type": "code",
   "execution_count": null,
   "metadata": {},
   "outputs": [],
   "source": [
    "class DomesticCat inherits Carnivore\n",
    "\n",
    "    private breed\n",
    "\n",
    "    public procedure new(givenBreed)\n",
    "        super.new(\"domestic cat\")\n",
    "        breed=givenBreed\n",
    "    endprocedure\n",
    "\n",
    "    public prodecure eat()\n",
    "        print(breed + \"eats cat food...\")\n",
    "    endprodecure\n",
    "\n",
    "    public procedure purr()\n",
    "        print(\"Purr, purr, purr\")\n",
    "\n",
    "endclass"
   ]
  },
  {
   "cell_type": "code",
   "execution_count": null,
   "metadata": {},
   "outputs": [],
   "source": [
    "menkoun = new DomesticCat(\"menkoun\")\n",
    "menkoun.has_hairs   # returns True\n",
    "menkoun.purr()      # returns \"Purr, purr, purr\"\n",
    "\n",
    "wolf = new Carnivore(\"wolf\")\n",
    "wolf.purr()         # returns an error : the method is not defined in \"Carnivore\" Class"
   ]
  },
  {
   "cell_type": "markdown",
   "metadata": {},
   "source": [
    "### Polymorphism (p.324)"
   ]
  },
  {
   "cell_type": "code",
   "execution_count": null,
   "metadata": {},
   "outputs": [],
   "source": [
    "menkoun = new DomesticCat(\"menkoun\")\n",
    "menkoun.eat()           # returns \"menkoun eats cat food...\" (method from \"DomesticCat\" class)\n",
    "\n",
    "wolf = new Carnivore(\"wolf\")\n",
    "wolf.eat()              # returns \"wolf eats fresh meat. Frightening ! \" (method from \"Carnivore\" class)\n",
    "\n",
    "horse = new Mammal(\"horse\", \"grass\")\n",
    "horse.eat()             # returns \"horse eats grass\" (method from \"Mammal\" class)"
   ]
  },
  {
   "cell_type": "markdown",
   "metadata": {},
   "source": [
    "### Application\n",
    "\n",
    "Create another subclass of the carnivore to describe the family of dogs (Canidae) which overrides the method eat() and implements a method woof().\n",
    "\n",
    "Alternatively, creates another subclass which corresponds to another animal family you want (like the walrus family!) \n",
    "\n",
    "![https://www.acsh.org/sites/default/files/Carnivore_relation.jpg](Carnivore_relation.jpg)"
   ]
  },
  {
   "cell_type": "markdown",
   "metadata": {},
   "source": [
    "## Work in autonomy\n",
    "Chose a topic among the following to build your own classification.\n",
    "\n",
    "If you have a specific idea, let's discuss it together to get you going !"
   ]
  },
  {
   "cell_type": "markdown",
   "metadata": {},
   "source": [
    "### Music classification \n",
    "\n",
    "Create a subclass of the following Music class which correspond to a specific genre you like (e.g. Hard_rock).\n",
    "\n",
    "In this subclass, override the method instruments() to a more specific statement (are they acoustic ? is it a cappella ?).\n",
    "\n",
    "Finally, create an instance corresponding to one of the songs you really like. \n",
    "\n",
    "look at a non-exhaustive list of music  genres :\n",
    "https://www.musicgenreslist.com/"
   ]
  },
  {
   "cell_type": "code",
   "execution_count": null,
   "metadata": {},
   "outputs": [],
   "source": [
    "class Music  # Class declaration\n",
    "    public name\n",
    "\n",
    "    public prodecure new(givenName) # Instantiation method \n",
    "        name = givenName\n",
    "    endprodecure\n",
    "\n",
    "    public prodecure instruments()              # Method\n",
    "        print(\"there are no instruments yet\")\n",
    "    endprodecure\n",
    "\n",
    "endclass"
   ]
  },
  {
   "cell_type": "markdown",
   "metadata": {},
   "source": [
    "### Sports classification\n",
    "\n",
    "Create a subclass of the following Sport class which correspond to a specific sport (e.g. rugby).\n",
    "\n",
    "In this subclass, override the method rules() to give more information on the rules (is there a ball ? is it a team sport?). \n",
    "\n",
    "Finally, create an instance corresponding to one of the olympic discipline of this sport (e.g. rugby_7).\n",
    "\n",
    "Look at the official classification of the olympic games to get some ideas\n",
    "https://www.olympic.org/sports\n",
    "\n"
   ]
  },
  {
   "cell_type": "code",
   "execution_count": null,
   "metadata": {},
   "outputs": [],
   "source": [
    "class Sport  # Class declaration\n",
    "    public name\n",
    "\n",
    "    public prodecure new(givenName) # Instantiation method \n",
    "        name = givenName\n",
    "    endprodecure\n",
    "\n",
    "    public prodecure rule()              # Method\n",
    "        print(\"This game is called \"+name)\n",
    "    endprodecure\n",
    "\n",
    "endclass"
   ]
  },
  {
   "cell_type": "markdown",
   "metadata": {},
   "source": [
    "## Conclusion\n",
    "__encapsulation__\n",
    "\n",
    "__Inheritance__ \n",
    "\n",
    "__Polymorphism__"
   ]
  },
  {
   "cell_type": "code",
   "execution_count": null,
   "metadata": {},
   "outputs": [],
   "source": []
  }
 ],
 "metadata": {
  "kernelspec": {
   "display_name": "Python 3",
   "language": "python",
   "name": "python3"
  },
  "language_info": {
   "codemirror_mode": {
    "name": "ipython",
    "version": 3
   },
   "file_extension": ".py",
   "mimetype": "text/x-python",
   "name": "python",
   "nbconvert_exporter": "python",
   "pygments_lexer": "ipython3",
   "version": "3.6.9-final"
  }
 },
 "nbformat": 4,
 "nbformat_minor": 2
}