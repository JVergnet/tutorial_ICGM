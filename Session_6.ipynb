{
 "cells": [
  {
   "cell_type": "code",
   "execution_count": null,
   "metadata": {},
   "outputs": [],
   "source": []
  },
  {
   "cell_type": "markdown",
   "metadata": {},
   "source": [
    "# OUTLINE\n",
    " 1 Python basics : Setup, syntax & standard libraries\n",
    "        \n",
    "2 Pymatgen 1 : build a structure & write a vasp job\n",
    "    \n",
    "3 Python + slurm + bash : launch a vasp job\n",
    "    \n",
    "4 Pymatgen 2 : read a vasp job & plot DOS\n",
    "    \n",
    "5 Matplotlib : make your own plots\n",
    "    \n",
    "__6 Pymatgen 3 : advanced functionalities (disorder, bader, lobster ... )__\n",
    "    \n",
    "7 the read_write library : installation, work flow & examples\n"
   ]
  }
 ],
 "metadata": {
  "kernelspec": {
   "display_name": "Python 3",
   "language": "python",
   "name": "python3"
  },
  "language_info": {
   "codemirror_mode": {
    "name": "ipython",
    "version": 3
   },
   "file_extension": ".py",
   "mimetype": "text/x-python",
   "name": "python",
   "nbconvert_exporter": "python",
   "pygments_lexer": "ipython3",
   "version": "3.6.8"
  }
 },
 "nbformat": 4,
 "nbformat_minor": 2
}
