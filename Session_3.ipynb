{
 "cells": [
  {
   "cell_type": "markdown",
   "metadata": {},
   "outputs": [],
   "source": [
    "# OUTLINE\n",
    " 1 Python basics : Setup, syntax & standard libraries\n",
    "        \n",
    " 2 Pymatgen 1 : build a structure & write a vasp job\n",
    "    \n",
    "__3 Python + slurm + bash : launch a vasp job__\n",
    "    \n",
    " 4 Pymatgen 2 : read a vasp job & plot DOS\n",
    "    \n",
    " 5 Matplotlib : make your own plots \n",
    "    \n",
    " 6 Pymatgen 3 : advanced functionalities (disorder, bader, lobster ... )\n",
    "    \n",
    " 7 the read_write library : installation, work flow & examples\n"
   ]
  },
  {
   "cell_type": "markdown",
   "metadata": {},
   "outputs": [],
   "source": [
    "# Session 3 : Python + slurm + bash : launch a vasp job\n",
    "* ssh / sshfs \n",
    "* slurm syntax (sbatch, scontrol)\n",
    "* python subprocess module"
   ]
  },
  {
   "cell_type": "markdown",
   "metadata": {},
   "outputs": [],
   "source": [
    "## Setting ssh link to server"
   ]
  },
  {
   "cell_type": "markdown",
   "metadata": {},
   "outputs": [],
   "source": [
    "### within the ICGM \n",
    "direct access"
   ]
  },
  {
   "cell_type": "code",
   "metadata": {},
   "outputs": [],
   "source": [
    "# ~/.ssh/config file\n",
    "Host direct_frodon\n",
    "\tHostName frodon.lsd.univ-montp2.fr\n",
    "\tUser jvergnet\n",
    "    # add rsa key if desired for swift login"
   ]
  },
  {
   "cell_type": "markdown",
   "metadata": {},
   "outputs": [],
   "source": [
    "on the console \n",
    "\n",
    "-X to allow the display of window via ssh\n",
    "\n",
    "    ssh direct_frodon -X"
   ]
  },
  {
   "cell_type": "markdown",
   "metadata": {},
   "outputs": [],
   "source": [
    "### Outside of the ICGM \n",
    "access through getaway redicrection"
   ]
  },
  {
   "cell_type": "markdown",
   "metadata": {},
   "outputs": [],
   "source": [
    "#### Getaway (loco2)\n",
    "Configure access & forwarding from local port to frodon port\n",
    "\n",
    "(Add control master socket for ssh multiplexing )\n",
    "\n",
    "rsa key is useless here since loco2 will still ask you for ubikey"
   ]
  },
  {
   "cell_type": "code",
   "metadata": {},
   "outputs": [],
   "source": [
    "# ~/.ssh/config file\n",
    "Host loco2\n",
    "\tHostName loco2.lsd.univ-montp2.fr\n",
    "\tUser jvergnet\n",
    "\n",
    "    # loco only listen to port 2222\n",
    "    Port 2222\n",
    "\n",
    "    # syntax LocalForward $local_port $address_of_end_machine:$port_on_machine \n",
    "    # port_on_machine is 22 for ssh (by default)\n",
    "\tLocalForward 2221 frodon.lsd.univ-montp2.fr:22\n",
    "\t# LocalForward 2223 bipbip.lsd.univ-montp2.fr:22\n",
    "\t# LocalForward 2224 tornado.icgm.fr:22\n",
    "\n",
    "    # SSH Multiplexing\n",
    "    # monitor global connection when accessing several machines at once\n",
    "\tControlMaster auto\n",
    "\tControlPath ~/.ssh/master-socket/%r@%h:%p\n",
    "\n",
    "    # Abort if there is a problem\n",
    "    # usefull when running ssh headless (ssh loco -N) see below\n",
    "    ExitOnForwardFailure yes"
   ]
  },
  {
   "cell_type": "markdown",
   "metadata": {},
   "outputs": [],
   "source": [
    "on the console (only once)\n",
    "\n",
    "* -N tell that no ssh commands need to be executed (just forwarding)\n",
    "* -f places your ssh process in the background \n",
    "after command execution or just after port forwarding if no command passed (-N))\n",
    "\n",
    "    ssh -N -f loco2"
   ]
  },
  {
   "cell_type": "markdown",
   "metadata": {},
   "outputs": [],
   "source": [
    "#### Final host (e.g. frodon)\n",
    "Access through local port forwarded via the getaway (loco2"
   ]
  },
  {
   "cell_type": "code",
   "metadata": {},
   "outputs": [],
   "source": [
    "# ~/.ssh/config file\n",
    "Host frodon_local\n",
    "    User jvergnet\n",
    "    \n",
    "    # we send an ssh request on the LOCAL port \n",
    "\tHostName localHost     \n",
    "\n",
    "    # local_port number was defined in the Host loco2 description\n",
    "    Port 2221\n",
    "    \n",
    "    # here you can add an rsa key on YOUR computer, paired with the final host \n",
    "    # see man ssh keygen\n",
    "\tIdentityFile /home/jvergnet/.ssh/k_rsa_fro_2\n",
    "\t"
   ]
  },
  {
   "cell_type": "markdown",
   "metadata": {},
   "outputs": [],
   "source": [
    "on the console (for every new window)\n",
    "\n",
    "also works for bipbip or tornado if configured\n",
    "\n",
    "-X to allow the display of window via ssh\n",
    "\n",
    "    ssh frodon_local -X"
   ]
  },
  {
   "cell_type": "markdown",
   "metadata": {},
   "outputs": [],
   "source": [
    "### sshfs\n",
    "Allow to access remote folder (on frodon machine) into your personal machine \n",
    "\n",
    "you \"mount\" the remote folder on an empty local folder, like a hard drive\n",
    "\n",
    "    sshfs ssh_address:/home/user/remote_folder /home/user/empty_local_folder\n",
    "\n",
    "eg, here : \n",
    "\n",
    "    sshfs frodon_local:/home/jvergnet/frofro /home/jvergnet/frofro\n",
    "\n",
    "*I named them consistently on local and remote :\n",
    "when developping scripts locally they can be used on the cluster without changing their execution path*"
   ]
  },
  {
   "cell_type": "markdown",
   "execution_count": 1,
   "metadata": {},
   "outputs": [
    {
     "ename": "SyntaxError",
     "evalue": "invalid syntax (<ipython-input-1-c0e2cdf15f4c>, line 2)",
     "output_type": "error",
     "traceback": [
      "\u001b[0;36m  File \u001b[0;32m\"<ipython-input-1-c0e2cdf15f4c>\"\u001b[0;36m, line \u001b[0;32m2\u001b[0m\n\u001b[0;31m    Complexe commands can be assigned to simple expression which can be directly called from the console\u001b[0m\n\u001b[0m                    ^\u001b[0m\n\u001b[0;31mSyntaxError\u001b[0m\u001b[0;31m:\u001b[0m invalid syntax\n"
     ]
    }
   ],
   "source": [
    "## Using Aliases \n",
    "Complexe commands can be assigned to simple expression which can be directly called from the console\n",
    "\n",
    "The definition of such functions is done in the bash configuration file `~/.bash_aliases` (or `~/.bashrc` )\n",
    "\n",
    "to use newly defined functions, we need to refresh this file by using `source ~/.bash_aliases`\n",
    "\n",
    "*NB : See how the ssh calls are much more readable if `~/.ssh/config` is correctly set*"
   ]
  },
  {
   "cell_type": "code",
   "metadata": {},
   "outputs": [],
   "source": [
    "# ~/.bash_aliases (or ~/.bashrc)\n",
    "\n",
    "# initial command to setup a remote connection \n",
    "SSSH_OPEN_TUNNEL() {\n",
    "\tssh -N -f loco2 &&  # open the getaway forwarding\n",
    "\tSSHFS_FRO &&  SSHFS_TOR && # mount both frodon and tornado on local folders (defined below)\n",
    "\tSSSH_TABS_OPEN # open a tab for each cluster (defined below)\n",
    "\t}\n",
    "\n",
    "# initial command to close a remote connection \n",
    "# by destroying the master socket, all connection will be properly closed\n",
    "SSSH_CLOSE_TUNNEL() {\n",
    "\tssh -S ~/.ssh/master-socket/jvergnet@loco2.lsd.univ-montp2.fr\\:2222 -O exit loco2\n",
    "\t}\n",
    "\n",
    "# opening distinct ssh tabs in the console\n",
    "SSSH_TABS_OPEN(){\n",
    "\tgnome-terminal --tab -- ssh frodon_local -X && \tgnome-terminal --tab -- ssh tornado_local -X\n",
    "\t}\n",
    "\n",
    "# SSHFS commands\n",
    "SSHFS_FRO() {\n",
    "\tsshfs frodon_local:/home/jvergnet/frofro /home/jvergnet/frofro\n",
    "\t}\n",
    "\n",
    "SSHFS_FRO_DIRECT() {\n",
    "        sshfs frodon:/home/jvergnet/frofro /home/jvergnet/frofro\n",
    "        }"
   ]
  },
  {
   "cell_type": "markdown",
   "metadata": {},
   "outputs": [],
   "source": [
    "on the console (at the begining of your day)\n",
    "\n",
    "to get one console tab on each cluster and a mounted filesystem for both\n",
    "\n",
    "    SSSH_OPEN_TUNNEL\n",
    "\n",
    "and if you want more terminal windows \n",
    "\n",
    "    SSSH_TABS_OPEN()\n",
    "\n",
    "*Conclusion : work hard once, take it easy afterwads !*"
   ]
  },
  {
   "cell_type": "markdown",
   "metadata": {},
   "outputs": [],
   "source": [
    "## SLURM and job management"
   ]
  },
  {
   "cell_type": "markdown",
   "metadata": {},
   "outputs": [],
   "source": [
    "### Launching a job on a cluster (sbatch)\n",
    "\n",
    "    sbatch vasp_job.sh\n",
    "\n",
    "Whan a job is executed, there are 2 level of personalisation : \n",
    "\n",
    "1 the call to sbatch (slurm syntax) determines : \n",
    "\n",
    "* the name of the job `-J {}`\n",
    "* the quality of service (QOS) `--qos=bg`\n",
    "* the number of nodes per job `-N {} `\n",
    "* the directory of execution `--workdir {}`\n",
    "* *for arrays* : nb jobs simultaneaous and in total `--array=1-{tot}%{sim}`\n",
    "\n",
    "2 the script which is executed by sbatch on each node determines : \n",
    "\n",
    "* All sbatch variables that were not determined during sbatch call (via `##NAME = VALUE` )\n",
    "* file manipulation (e.g. `cp CONTCAR POSCAR` for vasp), \n",
    "* the type of executable (e.g. `vasp gamma`, `non-colinear` or `Gaussian` or else)\n",
    "* *for arrays* : the diffeence between jobs of the same array\n",
    "\n",
    "*nb : absolutely non-exhaustive list !*"
   ]
  },
  {
   "cell_type": "markdown",
   "execution_count": 2,
   "metadata": {},
   "outputs": [
    {
     "ename": "SyntaxError",
     "evalue": "invalid syntax (<ipython-input-2-b2cde1789e05>, line 1)",
     "output_type": "error",
     "traceback": [
      "\u001b[0;36m  File \u001b[0;32m\"<ipython-input-2-b2cde1789e05>\"\u001b[0;36m, line \u001b[0;32m1\u001b[0m\n\u001b[0;31m    then the run can be highly personalized : e.g.\u001b[0m\n\u001b[0m           ^\u001b[0m\n\u001b[0;31mSyntaxError\u001b[0m\u001b[0;31m:\u001b[0m invalid syntax\n"
     ]
    }
   ],
   "source": [
    "then the run can be highly personalized : e.g. \n",
    "\n",
    "    sbatch -J LiCoO2  --qos=bg  -N 4 --workdir /path/to/jobfolder  vasp_job_non_colinear.sh"
   ]
  },
  {
   "cell_type": "markdown",
   "metadata": {},
   "outputs": [],
   "source": [
    "### Monitoring running Jobs "
   ]
  },
  {
   "cell_type": "markdown",
   "metadata": {},
   "outputs": [],
   "source": [
    "#### Simple checking\n",
    "\n",
    "`sinfo`  : number of occupied and idle nodes on the cluster\n",
    "\n",
    "`squeue` : jobID, name, age and nb of nodes of the running jobs "
   ]
  },
  {
   "cell_type": "markdown",
   "metadata": {},
   "outputs": [],
   "source": [
    "#### Advanced checking\n",
    "Built-in control for queued or jobs\n",
    "\n",
    "    scontrol show job $numjob\n",
    "\n",
    "which returns (among other lines) : \n",
    "\n",
    "    StdOut=/path/to/file.stdout\n",
    "\n",
    "this file collects the Standard output of the script called by sbatch.\n",
    "\n",
    "We can include a reference to the working directory in the standard output to the job script : \n",
    "\n",
    "    echo 'echo \\\"JOBDIR=\\\"$PWD' >> vasp_job.sh\n",
    "\n",
    "We can then acess the working directory and monitor the ongoing job : e.g. \n",
    "\n",
    "    tail $JOBDIR/OSZICAR \n",
    "\n",
    "*this works for all configuration, even when `--workdir` was specified in the command line*"
   ]
  },
  {
   "cell_type": "markdown",
   "metadata": {},
   "outputs": [],
   "source": [
    "This is summarized in the following bash script : "
   ]
  },
  {
   "cell_type": "code",
   "metadata": {},
   "outputs": [],
   "source": [
    "#!/bin/bash\n",
    "# check_job \n",
    "\n",
    "# ============================\n",
    "# GETTING the job folder name \n",
    "\n",
    "# get the line StdOut=/path/to/file.stdout\n",
    "stdout_line=$(scontrol show job $numjob | grep StdOut)\n",
    "\n",
    "# rip the \"StdOut=\" at the begining\n",
    "stdout_file=${stdout_line#*=}\n",
    "\n",
    "# get the line JOBDIR=/path/to/job_dir\n",
    "workdir=$(cat $stdout_file |grep JOBDIR)\n",
    "\n",
    "# rip the \"JOBDIR=\" at the begining\n",
    "workdir=${workdir#*=}\n",
    "\n",
    "cd $workdir\n",
    "\n",
    "printf \"\\n ${workdir#*jvergnet/}\\n\"\n",
    "\n",
    "# ============================\n",
    "# ANALYSIS of running job folder\n",
    "\n",
    "if grep -q F OSZICAR; #if \"F\" is present in the file \n",
    "then\n",
    "        # echo \" at least 1 ion movement\"  \n",
    "        # grep : 1 line of context -Before the -expression \"F\" in the -File OSZ\n",
    "        # print all ionic steps and their last electronic step\n",
    "        grep -B1 -e F -F OSZICAR | tail -n 10 \n",
    "\n",
    "else\n",
    "        # echo \"not even 1 ion movement\"\n",
    "        # print the last 10 electronic steps\n",
    "        tail -n 10 OSZICAR\n",
    "fi\n"
   ]
  },
  {
   "cell_type": "markdown",
   "metadata": {},
   "outputs": [],
   "source": [
    "We can even automatize the extraction of jobID for the current user "
   ]
  },
  {
   "cell_type": "code",
   "metadata": {},
   "outputs": [],
   "source": [
    "#!/bin/bash\n",
    "# check_job_all\n",
    "\n",
    "# pipe results of \"squeue\" (line containing only jobID) to \"while read\" (line by line) \n",
    "squeue -h -u jvergnet -o %A | while read -r numjob rest_of_line \n",
    "do\n",
    "        printf  \"\\n \\n   ===> JOB No : %s \" \"$numjob\"\n",
    "        if [[ \"$numjob\" == *%* ]]; then # this lists the pending job of the job array\n",
    "                echo \" ==> Proxy job !\"\n",
    "        else :\n",
    "                sh check_job $numjob # its a real running job \n",
    "        fi\n",
    "done\n"
   ]
  },
  {
   "cell_type": "markdown",
   "metadata": {},
   "outputs": [],
   "source": [
    "## Launching job from python\n",
    "The module `subprocess` allows a python script to issue commands to the terminal. "
   ]
  },
  {
   "cell_type": "code",
   "metadata": {},
   "outputs": [],
   "source": [
    "import subprocess\n",
    "\n",
    "# allows to launch jobs on the cluster via python\n",
    "subprocess.call(['sbatch vasp_job.sh'], shell=True)\n"
   ]
  },
  {
   "cell_type": "markdown",
   "metadata": {},
   "outputs": [],
   "source": [
    "Therefore the personalization can be done using a user friendly script and then properly formatted into a sbatch command string issued to the terminal. \n",
    "\n",
    "This has been done in the module `launch_job` that can be inspected in the file __launch_job.py__"
   ]
  },
  {
   "cell_type": "code",
   "metadata": {},
   "outputs": [],
   "source": [
    "from launch_job import SlurmJob\n",
    "\n",
    "project_folder = \"/home/jvergnet/frofro/job_dir/\"\n",
    "\n",
    "slurm_job = SlurmJob(project_folder)\n",
    "slurm_job.launch_job()"
   ]
  },
  {
   "cell_type": "code",
   "metadata": {},
   "outputs": [],
   "source": [
    "to use this module, you need to set the vasp_job scripts to the proper location"
   ]
  }
 ],
 "metadata": {
  "kernelspec": {
   "display_name": "Python 3",
   "language": "python",
   "name": "python3"
  },
  "language_info": {
   "codemirror_mode": {
    "name": "ipython",
    "version": 3
   },
   "file_extension": ".py",
   "mimetype": "text/x-python",
   "name": "python",
   "nbconvert_exporter": "python",
   "pygments_lexer": "ipython3",
   "version": "3.6.9"
  }
 },
 "nbformat": 4,
 "nbformat_minor": 2
}