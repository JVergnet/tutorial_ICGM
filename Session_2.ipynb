{
 "cells": [
  {
   "cell_type": "markdown",
   "metadata": {},
   "source": [
    "# OUTLINE\n",
    " 1 Python basics : Setup, syntax & standard libraries\n",
    "        \n",
    " __2 Pymatgen 1 : build a structure & write a vasp job__\n",
    "    \n",
    " 3 Python + slurm + bash : launch a vasp job\n",
    "    \n",
    " 4 Pymatgen 2 : read a vasp job & plot DOS\n",
    "    \n",
    " 5 Matplotlib : make your own plots \n",
    "    \n",
    " 6 Pymatgen 3 : advanced functionalities (disorder, bader, lobster ... )\n",
    "    \n",
    " 7 the read_write library : installation, work flow & examples\n"
   ]
  },
  {
   "cell_type": "markdown",
   "execution_count": 5,
   "metadata": {},
   "outputs": [
    {
     "ename": "SyntaxError",
     "evalue": "invalid syntax (<ipython-input-5-377a71a69807>, line 3)",
     "output_type": "error",
     "traceback": [
      "\u001b[0;36m  File \u001b[0;32m\"<ipython-input-5-377a71a69807>\"\u001b[0;36m, line \u001b[0;32m3\u001b[0m\n\u001b[0;31m    * Reading & writing POSCAR or CIF data\u001b[0m\n\u001b[0m                             ^\u001b[0m\n\u001b[0;31mSyntaxError\u001b[0m\u001b[0;31m:\u001b[0m invalid syntax\n"
     ]
    }
   ],
   "source": [
    "# Session 2 : Pymatgen  1 : reading a poscar and writing vasp input\n",
    "## The Structure module [doc](http://pymatgen.org/pymatgen.core.structure.html) [source code](http://pymatgen.org/_modules/pymatgen/core/structure.html)\n",
    "* Reading & writing POSCAR or CIF data \n",
    "* Modifying a Structure \n",
    "## the VaspInputSet module [doc](http://pymatgen.org/pymatgen.io.vasp.sets.html?highlight=vaspinputset)\n",
    "* Write vasp inputs into a directory (INCAR,POSCAR,KPOINT,POTCAR)\n",
    "* Modyfiying the default settings\n",
    "## the Job class\n"
   ]
  },
  {
   "cell_type": "markdown",
   "metadata": {},
   "source": [
    "## Lattice & Structure objects"
   ]
  },
  {
   "cell_type": "markdown",
   "metadata": {},
   "source": [
    "A Structure object represents a crystal structure (lattice + basis). \n",
    "\n",
    "A Structure is essentially a list of `PeriodicSites` with the same `Lattice`.\n",
    "\n",
    "`PeriodicSites` & `Lattice` are both core classes of pymatgen.\n",
    "\n",
    "Let us now create a CsCl structure from scratch."
   ]
  },
  {
   "cell_type": "markdown",
   "metadata": {},
   "source": [
    "A Lattice represents a Bravais lattice. Convenience static functions are provided for the creation of common lattice types from a minimum number of arguments."
   ]
  },
  {
   "cell_type": "code",
   "execution_count": 8,
   "metadata": {},
   "outputs": [
    {
     "name": "stdout",
     "output_type": "stream",
     "text": "(4.2, 4.2, 4.2, 90.0, 90.0, 90.0)\n"
    }
   ],
   "source": [
    "import pymatgen as mg\n",
    "# Creates cubic Lattice with lattice parameter 4.2\n",
    "lattice = mg.Lattice.cubic(4.2)\n",
    "print(lattice.parameters)"
   ]
  },
  {
   "cell_type": "code",
   "execution_count": 17,
   "metadata": {},
   "outputs": [
    {
     "name": "stdout",
     "output_type": "stream",
     "text": "Unit cell vol = 74.08800000000001\nFirst site of the structure is [0. 0. 0.] Na\n"
    }
   ],
   "source": [
    "structure = mg.Structure(lattice, [\"Na\", \"Cl\"], [[0, 0, 0], [0.5, 0.5, 0.5]])\n",
    "print(\"Unit cell vol = {}\".format(structure.volume))\n",
    "print(\"First site of the structure is {}\".format(structure[0]))"
   ]
  },
  {
   "cell_type": "markdown",
   "metadata": {},
   "source": [
    "The Structure object contains many useful manipulation functions. Since Structure is essentially a list, it contains a simple pythonic API for manipulation its sites."
   ]
  },
  {
   "cell_type": "code",
   "execution_count": 3,
   "metadata": {},
   "outputs": [
    {
     "name": "stdout",
     "output_type": "stream",
     "text": "F indices (1, 2)\nFull Formula (Na1 Li1 F2)\nReduced Formula: NaLiF2\nabc   :   8.400000   4.200000   4.200000\nangles:  90.000000  90.000000  90.000000\nSites (4)\n  #  SP       a    b    c\n---  ----  ----  ---  ---\n  0  Na    0.01  0.5  0\n  1  F     0.25  0.5  0.5\n  2  F     0.75  0.5  0.5\n  3  Li    0     0    0\n"
    }
   ],
   "source": [
    "structure.make_supercell([2, 1, 1]) #Make a 2 x 1 x 1 supercell of the structure\n",
    "del structure[0] #Remove the first site\n",
    "structure.append(\"Na\", [0,0,0]) #Append a Na atom.\n",
    "structure[-1] = \"Li\" # Change the last added atom to Li.\n",
    "structure[0] = \"Na\", [0.01, 0.5, 0] #Shift the first atom by 0.01 in fractional coordinates in the x-direction.\n",
    "structure.replace_species({\"Cl\" : \"F\"}) # replace all species\n",
    "print(\"F indices\", structure.indices_from_symbol(\"F\")) # find all F indices\n",
    "print(structure)"
   ]
  },
  {
   "cell_type": "markdown",
   "execution_count": 4,
   "metadata": {},
   "outputs": [
    {
     "ename": "SyntaxError",
     "evalue": "invalid syntax (<ipython-input-4-62000078ff5a>, line 2)",
     "output_type": "error",
     "traceback": [
      "\u001b[0;36m  File \u001b[0;32m\"<ipython-input-4-62000078ff5a>\"\u001b[0;36m, line \u001b[0;32m2\u001b[0m\n\u001b[0;31m    The method `structure.add_site_property(property_name: str, values: List)` is very usefull :\u001b[0m\n\u001b[0m             ^\u001b[0m\n\u001b[0;31mSyntaxError\u001b[0m\u001b[0;31m:\u001b[0m invalid syntax\n"
     ]
    }
   ],
   "source": [
    "#### Adding custom properties \n",
    "The method `structure.add_site_property(property_name: str, values: List)` is very usefull : \n",
    "* to store site-related information (e.g. bader charge) for further analysis (bader-oxidation ewald analysis)\n",
    "* for advanced modification of the input files for vasp (cf below) : \n",
    "\n",
    "    `\"spin\"` , `[ +3, 0, ... ]` => (define the magmom in the incar )\n",
    "\n",
    "    `\"selective dynamic\"` ,  `[ [ True, True, False], [...] ... ]` => define the degree of freedom in POSCAR\n",
    "\n",
    "We will se examples at the end of this tutorial\n",
    "\n",
    "\n"
   ]
  },
  {
   "cell_type": "markdown",
   "execution_count": 28,
   "metadata": {},
   "outputs": [],
   "source": [
    "## Basic analyses"
   ]
  },
  {
   "cell_type": "markdown",
   "metadata": {},
   "source": [
    "Pymatgen provides many analyses functions for Structures. Some common ones are given below."
   ]
  },
  {
   "cell_type": "markdown",
   "execution_count": 27,
   "metadata": {},
   "outputs": [],
   "source": [
    "### Determining the symmetry "
   ]
  },
  {
   "cell_type": "code",
   "execution_count": 26,
   "metadata": {},
   "outputs": [
    {
     "name": "stdout",
     "output_type": "stream",
     "text": "The spacegroup is Pm-3m, with number 221\nThe point group operation (displacement + rotation) matices are \n [Rot:\n[[1. 0. 0.]\n [0. 1. 0.]\n [0. 0. 1.]]\ntau\n[0. 0. 0.], Rot:\n[[-1.  0.  0.]\n [ 0. -1.  0.]\n [ 0.  0. -1.]]\ntau\n[0. 0. 0.], Rot:\n[[ 0. -1.  0.]\n [ 1.  0.  0.]\n [ 0.  0.  1.]]\ntau\n[0. 0. 0.], Rot:\n[[ 0.  1.  0.]\n [-1.  0.  0.]\n [ 0.  0. -1.]]\ntau\n[0. 0. 0.], Rot:\n[[-1.  0.  0.]\n [ 0. -1.  0.]\n [ 0.  0.  1.]]\ntau\n[0. 0. 0.], Rot:\n[[ 1.  0.  0.]\n [ 0.  1.  0.]\n [ 0.  0. -1.]]\ntau\n[0. 0. 0.], Rot:\n[[ 0.  1.  0.]\n [-1.  0.  0.]\n [ 0.  0.  1.]]\ntau\n[0. 0. 0.], Rot:\n[[ 0. -1.  0.]\n [ 1.  0.  0.]\n [ 0.  0. -1.]]\ntau\n[0. 0. 0.], Rot:\n[[ 1.  0.  0.]\n [ 0. -1.  0.]\n [ 0.  0. -1.]]\ntau\n[0. 0. 0.], Rot:\n[[-1.  0.  0.]\n [ 0.  1.  0.]\n [ 0.  0.  1.]]\ntau\n[0. 0. 0.], Rot:\n[[ 0. -1.  0.]\n [-1.  0.  0.]\n [ 0.  0. -1.]]\ntau\n[0. 0. 0.], Rot:\n[[0. 1. 0.]\n [1. 0. 0.]\n [0. 0. 1.]]\ntau\n[0. 0. 0.], Rot:\n[[-1.  0.  0.]\n [ 0.  1.  0.]\n [ 0.  0. -1.]]\ntau\n[0. 0. 0.], Rot:\n[[ 1.  0.  0.]\n [ 0. -1.  0.]\n [ 0.  0.  1.]]\ntau\n[0. 0. 0.], Rot:\n[[ 0.  1.  0.]\n [ 1.  0.  0.]\n [ 0.  0. -1.]]\ntau\n[0. 0. 0.], Rot:\n[[ 0. -1.  0.]\n [-1.  0.  0.]\n [ 0.  0.  1.]]\ntau\n[0. 0. 0.], Rot:\n[[0. 0. 1.]\n [1. 0. 0.]\n [0. 1. 0.]]\ntau\n[0. 0. 0.], Rot:\n[[ 0.  0. -1.]\n [-1.  0.  0.]\n [ 0. -1.  0.]]\ntau\n[0. 0. 0.], Rot:\n[[ 0.  0.  1.]\n [ 0. -1.  0.]\n [ 1.  0.  0.]]\ntau\n[0. 0. 0.], Rot:\n[[ 0.  0. -1.]\n [ 0.  1.  0.]\n [-1.  0.  0.]]\ntau\n[0. 0. 0.], Rot:\n[[ 0.  0.  1.]\n [-1.  0.  0.]\n [ 0. -1.  0.]]\ntau\n[0. 0. 0.], Rot:\n[[ 0.  0. -1.]\n [ 1.  0.  0.]\n [ 0.  1.  0.]]\ntau\n[0. 0. 0.], Rot:\n[[ 0.  0.  1.]\n [ 0.  1.  0.]\n [-1.  0.  0.]]\ntau\n[0. 0. 0.], Rot:\n[[ 0.  0. -1.]\n [ 0. -1.  0.]\n [ 1.  0.  0.]]\ntau\n[0. 0. 0.], Rot:\n[[ 0.  0. -1.]\n [ 1.  0.  0.]\n [ 0. -1.  0.]]\ntau\n[0. 0. 0.], Rot:\n[[ 0.  0.  1.]\n [-1.  0.  0.]\n [ 0.  1.  0.]]\ntau\n[0. 0. 0.], Rot:\n[[ 0.  0. -1.]\n [ 0. -1.  0.]\n [-1.  0.  0.]]\ntau\n[0. 0. 0.], Rot:\n[[0. 0. 1.]\n [0. 1. 0.]\n [1. 0. 0.]]\ntau\n[0. 0. 0.], Rot:\n[[ 0.  0. -1.]\n [-1.  0.  0.]\n [ 0.  1.  0.]]\ntau\n[0. 0. 0.], Rot:\n[[ 0.  0.  1.]\n [ 1.  0.  0.]\n [ 0. -1.  0.]]\ntau\n[0. 0. 0.], Rot:\n[[ 0.  0. -1.]\n [ 0.  1.  0.]\n [ 1.  0.  0.]]\ntau\n[0. 0. 0.], Rot:\n[[ 0.  0.  1.]\n [ 0. -1.  0.]\n [-1.  0.  0.]]\ntau\n[0. 0. 0.], Rot:\n[[0. 1. 0.]\n [0. 0. 1.]\n [1. 0. 0.]]\ntau\n[0. 0. 0.], Rot:\n[[ 0. -1.  0.]\n [ 0.  0. -1.]\n [-1.  0.  0.]]\ntau\n[0. 0. 0.], Rot:\n[[ 1.  0.  0.]\n [ 0.  0.  1.]\n [ 0. -1.  0.]]\ntau\n[0. 0. 0.], Rot:\n[[-1.  0.  0.]\n [ 0.  0. -1.]\n [ 0.  1.  0.]]\ntau\n[0. 0. 0.], Rot:\n[[ 0. -1.  0.]\n [ 0.  0.  1.]\n [-1.  0.  0.]]\ntau\n[0. 0. 0.], Rot:\n[[ 0.  1.  0.]\n [ 0.  0. -1.]\n [ 1.  0.  0.]]\ntau\n[0. 0. 0.], Rot:\n[[-1.  0.  0.]\n [ 0.  0.  1.]\n [ 0.  1.  0.]]\ntau\n[0. 0. 0.], Rot:\n[[ 1.  0.  0.]\n [ 0.  0. -1.]\n [ 0. -1.  0.]]\ntau\n[0. 0. 0.], Rot:\n[[ 0. -1.  0.]\n [ 0.  0. -1.]\n [ 1.  0.  0.]]\ntau\n[0. 0. 0.], Rot:\n[[ 0.  1.  0.]\n [ 0.  0.  1.]\n [-1.  0.  0.]]\ntau\n[0. 0. 0.], Rot:\n[[-1.  0.  0.]\n [ 0.  0. -1.]\n [ 0. -1.  0.]]\ntau\n[0. 0. 0.], Rot:\n[[1. 0. 0.]\n [0. 0. 1.]\n [0. 1. 0.]]\ntau\n[0. 0. 0.], Rot:\n[[ 0.  1.  0.]\n [ 0.  0. -1.]\n [-1.  0.  0.]]\ntau\n[0. 0. 0.], Rot:\n[[ 0. -1.  0.]\n [ 0.  0.  1.]\n [ 1.  0.  0.]]\ntau\n[0. 0. 0.], Rot:\n[[ 1.  0.  0.]\n [ 0.  0. -1.]\n [ 0.  1.  0.]]\ntau\n[0. 0. 0.], Rot:\n[[-1.  0.  0.]\n [ 0.  0.  1.]\n [ 0. -1.  0.]]\ntau\n[0. 0. 0.]]\n"
    }
   ],
   "source": [
    "# quick method directly from a structure : \n",
    "print(\"The spacegroup is {}, with number {}\".format( *structure.get_space_group_info() ))\n",
    "\n",
    "# behind the scene we use the SpacegroupAnalyzer class which has MUCH more functionalities\n",
    "from pymatgen.symmetry.analyzer import SpacegroupAnalyzer\n",
    "finder = SpacegroupAnalyzer(structure)\n",
    "print(\"The point group operation (displacement + rotation) matices are \\n {}\".format( finder.get_point_group_operations() ))"
   ]
  },
  {
   "cell_type": "markdown",
   "execution_count": 34,
   "metadata": {},
   "outputs": [
    {
     "ename": "SyntaxError",
     "evalue": "invalid syntax (<ipython-input-34-4442347a5a7a>, line 2)",
     "output_type": "error",
     "traceback": [
      "\u001b[0;36m  File \u001b[0;32m\"<ipython-input-34-4442347a5a7a>\"\u001b[0;36m, line \u001b[0;32m2\u001b[0m\n\u001b[0;31m    useful to elimiate doubles when enumerating disordered structures (see beslow)\u001b[0m\n\u001b[0m            ^\u001b[0m\n\u001b[0;31mSyntaxError\u001b[0m\u001b[0;31m:\u001b[0m invalid syntax\n"
     ]
    }
   ],
   "source": [
    "### Matching structures\n",
    "useful to elimiate doubles when enumerating disordered structures (see beslow)"
   ]
  },
  {
   "cell_type": "code",
   "execution_count": 33,
   "metadata": {},
   "outputs": [
    {
     "name": "stdout",
     "output_type": "stream",
     "text": "True\nTrue\n"
    }
   ],
   "source": [
    "#Let's create two structures which are the same topologically, but with different elements, and one lattice is larger.\n",
    "s1 = mg.Structure(lattice, [\"Cs\", \"Cl\"], [[0, 0, 0], [0.5, 0.5, 0.5]])\n",
    "s2 = mg.Structure(mg.Lattice.cubic(5), [\"Rb\", \"F\"], [[0, 0, 0], [0.5, 0.5, 0.5]])\n",
    "\n",
    "# convenient method from the Structure instance\n",
    "print(s1.matches(s2, anonymous=True))\n",
    "\n",
    "# behind the scene we use the StructureMatcher class, with other tools avaliable\n",
    "from pymatgen.analysis.structure_matcher import StructureMatcher\n",
    "m = StructureMatcher()\n",
    "print(m.fit_anonymous(s1, s2)) #Returns a mapping which maps s1 and s2 onto each other. Strict element fitting is also available."
   ]
  },
  {
   "cell_type": "markdown",
   "execution_count": 35,
   "metadata": {},
   "outputs": [
    {
     "ename": "SyntaxError",
     "evalue": "invalid syntax (<ipython-input-35-54c68621e34d>, line 2)",
     "output_type": "error",
     "traceback": [
      "\u001b[0;36m  File \u001b[0;32m\"<ipython-input-35-54c68621e34d>\"\u001b[0;36m, line \u001b[0;32m2\u001b[0m\n\u001b[0;31m    usefull when studying the deformation\u001b[0m\n\u001b[0m               ^\u001b[0m\n\u001b[0;31mSyntaxError\u001b[0m\u001b[0;31m:\u001b[0m invalid syntax\n"
     ]
    }
   ],
   "source": [
    "#### Distances across the structure \n",
    "usefull when studying the deformation "
   ]
  },
  {
   "cell_type": "code",
   "execution_count": 72,
   "metadata": {},
   "outputs": [
    {
     "name": "stdout",
     "output_type": "stream",
     "text": "dist [ 7 , 10 ] = 2.343920428378692\ndist [ 6 , 9 ] = 2.3439204283786927\ndist [ 8 , 11 ] = 2.343920428378693\ndist [ 6 , 11 ] = 3.405663221503893\ndist [ 7 , 8 ] = 3.405663221503893\ndist [ 9 , 10 ] = 3.4056632215038953\ndist [ 8 , 10 ] = 4.956500692132615\ndist [ 9 , 11 ] = 4.956500692132616\ndist [ 7 , 11 ] = 4.956500692132617\ndist [ 6 , 8 ] = 4.956500692132618\ndist [ 6 , 10 ] = 4.956500692132618\ndist [ 7 , 9 ] = 4.956500692132618\ndist [ 10 , 11 ] = 6.3721728\ndist [ 6 , 7 ] = 6.372172800000001\ndist [ 8 , 9 ] = 6.372172800000001\n"
    },
    {
     "data": {
      "text/plain": "[PeriodicSite: O (-1.4070, -0.8123, -1.4966) [-0.6667, -0.3333, -0.1065],\n PeriodicSite: O (-1.4070, 0.8123, 1.4966) [-0.3333, 0.3333, 0.1065],\n PeriodicSite: O (1.4070, -0.8123, -1.4966) [0.3333, -0.3333, -0.1065],\n PeriodicSite: O (-0.0000, -1.6247, 1.4966) [-0.3333, -0.6667, 0.1065],\n PeriodicSite: O (0.0000, 1.6247, -1.4966) [0.3333, 0.6667, -0.1065],\n PeriodicSite: O (1.4070, 0.8123, 1.4966) [0.6667, 0.3333, 0.1065]]"
     },
     "execution_count": 72,
     "metadata": {},
     "output_type": "execute_result"
    }
   ],
   "source": [
    "structure = mg.Structure.from_file(\"LiCoO2.cif\")\n",
    "\n",
    "# get O-O distances\n",
    "O_indices = structure.indices_from_symbol(\"O\")\n",
    "oo_dist_list = []\n",
    "for i, O1 in enumerate(O_indices) : \n",
    "    for O2 in O_indices[i+1 : ]: # upper diagonal of the matrix to avoid doubles \n",
    "        oo_dist_list.append([O1,O2,structure.distance_matrix[O1,O2]])\n",
    "\n",
    "# sort O-O distances \n",
    "oo_dist_list = sorted(oo_dist_list, key=lambda x: x[2]) #  sort function and lambda function \n",
    "for O1,O2,dist in oo_dist_list : \n",
    "    print(\"dist [ {} , {} ] = {}\".format(O1,O2,structure.distance_matrix[O1,O2]))\n",
    "\n",
    "# get oxygen in cobalt first shell\n",
    "co_site = structure[structure.indices_from_symbol(\"Co\")[0]] # PeriodicSite instance\n",
    "structure.get_neighbors(co_site, 2.5)"
   ]
  },
  {
   "cell_type": "markdown",
   "metadata": {},
   "source": [
    "## Input/output"
   ]
  },
  {
   "cell_type": "code",
   "execution_count": 6,
   "metadata": {},
   "outputs": [
    {
     "name": "stdout",
     "output_type": "stream",
     "text": "Na1 Li1 F2\n1.0\n8.400000 0.000000 0.000000\n0.000000 4.200000 0.000000\n0.000000 0.000000 4.200000\nNa F Li\n1 2 1\ndirect\n0.010000 0.500000 0.000000 Na\n0.250000 0.500000 0.500000 F\n0.750000 0.500000 0.500000 F\n0.000000 0.000000 0.000000 Li\n\n# generated using pymatgen\ndata_NaLiF2\n_symmetry_space_group_name_H-M   'P 1'\n_cell_length_a   8.40000000\n_cell_length_b   4.20000000\n_cell_length_c   4.20000000\n_cell_angle_alpha   90.00000000\n_cell_angle_beta   90.00000000\n_cell_angle_gamma   90.00000000\n_symmetry_Int_Tables_number   1\n_chemical_formula_structural   NaLiF2\n_chemical_formula_sum   'Na1 Li1 F2'\n_cell_volume   148.17600000\n_cell_formula_units_Z   1\nloop_\n _symmetry_equiv_pos_site_id\n _symmetry_equiv_pos_as_xyz\n  1  'x, y, z'\nloop_\n _atom_site_type_symbol\n _atom_site_label\n _atom_site_symmetry_multiplicity\n _atom_site_fract_x\n _atom_site_fract_y\n _atom_site_fract_z\n _atom_site_occupancy\n  Na  Na0  1  0.010000  0.500000  0.000000  1\n  F  F1  1  0.250000  0.500000  0.500000  1.0\n  F  F2  1  0.750000  0.500000  0.500000  1.0\n  Li  Li3  1  0.000000  0.000000  0.000000  1\n\n"
    }
   ],
   "source": [
    "#Convenient IO to various formats. Format is intelligently determined from file name and extension.\n",
    "structure.to(filename=\"POSCAR\")\n",
    "structure.to(filename=\"CsCl.cif\")\n",
    "\n",
    "#Or if you just supply fmt, you simply get a string.\n",
    "print(structure.to(fmt=\"poscar\"))\n",
    "print(structure.to(fmt=\"cif\"))"
   ]
  },
  {
   "cell_type": "code",
   "execution_count": 7,
   "metadata": {},
   "outputs": [],
   "source": [
    "# Reading a structure from a file.\n",
    "structure = mg.Structure.from_file(\"POSCAR\")"
   ]
  },
  {
   "cell_type": "markdown",
   "execution_count": 25,
   "metadata": {},
   "outputs": [
    {
     "ename": "SyntaxError",
     "evalue": "invalid syntax (<ipython-input-25-ab9f8f77253f>, line 5)",
     "output_type": "error",
     "traceback": [
      "\u001b[0;36m  File \u001b[0;32m\"<ipython-input-25-ab9f8f77253f>\"\u001b[0;36m, line \u001b[0;32m5\u001b[0m\n\u001b[0;31m    * you may have to build asupercell if there is less than 6 Li in the provided cell\u001b[0m\n\u001b[0m            ^\u001b[0m\n\u001b[0;31mSyntaxError\u001b[0m\u001b[0;31m:\u001b[0m invalid syntax\n"
     ]
    }
   ],
   "source": [
    "### Exercise \n",
    "#### 1 read the cif of LiCoO2\n",
    "\n",
    "#### 2 replace half Co by Mn (random replacement)\n",
    "* you may have to build asupercell if there is less than 6 Li in the provided cell\n",
    "#### 3 remove x=1/6 Li  \n",
    "* random removal : use the `random` library\n",
    "\n",
    "#### 4 write the corresponding POSCAR"
   ]
  },
  {
   "cell_type": "code",
   "execution_count": 8,
   "metadata": {},
   "outputs": [],
   "source": [
    "# space for exercise here !! "
   ]
  },
  {
   "cell_type": "markdown",
   "execution_count": 12,
   "metadata": {},
   "outputs": [
    {
     "ename": "NameError",
     "evalue": "name 'random' is not defined",
     "output_type": "error",
     "traceback": [
      "\u001b[0;31m---------------------------------------------------------------------------\u001b[0m",
      "\u001b[0;31mNameError\u001b[0m                                 Traceback (most recent call last)",
      "\u001b[0;32m<ipython-input-12-b239c10f1c74>\u001b[0m in \u001b[0;36m<module>\u001b[0;34m()\u001b[0m\n\u001b[1;32m      1\u001b[0m \u001b[0;31m### Solving the exercice \"a la mano\",\u001b[0m\u001b[0;34m\u001b[0m\u001b[0;34m\u001b[0m\u001b[0;34m\u001b[0m\u001b[0m\n\u001b[0;32m----> 2\u001b[0;31m \u001b[0mordering\u001b[0m \u001b[0;34m=\u001b[0m \u001b[0mrandom\u001b[0m\u001b[0;34m\u001b[0m\u001b[0;34m\u001b[0m\u001b[0m\n\u001b[0m",
      "\u001b[0;31mNameError\u001b[0m: name 'random' is not defined"
     ]
    }
   ],
   "source": [
    "### Solving the exercice \"a la mano\", \n",
    "ordering = random"
   ]
  },
  {
   "cell_type": "code",
   "execution_count": 83,
   "metadata": {},
   "outputs": [
    {
     "name": "stdout",
     "output_type": "stream",
     "text": "\nNb of Li : 3 // nb co 3\nno enough li or Mn, making supercell\n \nNb of Li : 6 // nb co 6\nenough li & Mn\nFull Formula (Li6 Co6 O12)\nReduced Formula: LiCoO2\nabc   :   5.628000   2.814000  14.048000\nangles:  90.000000  90.000000 120.000000\nSites (24)\n  #  SP           a         b         c\n---  ----  --------  --------  --------\n  0  Li    0         0         0.5\n  1  Li    0.5       0         0.5\n  2  Li    0.333333  0.333333  0.833333\n  3  Li    0.833333  0.333333  0.833333\n  4  Li    0.166667  0.666667  0.166667\n  5  Li    0.666667  0.666667  0.166667\n  6  Co    0         0         0\n  7  Co    0.5       0         0\n  8  Co    0.333333  0.333333  0.333333\n  9  Co    0.833333  0.333333  0.333333\n 10  Co    0.166667  0.666667  0.666667\n 11  Co    0.666667  0.666667  0.666667\n 12  O     0         0         0.2268\n 13  O     0.5       0         0.2268\n 14  O     0         0         0.7732\n 15  O     0.5       0         0.7732\n 16  O     0.333333  0.333333  0.560133\n 17  O     0.833333  0.333333  0.560133\n 18  O     0.333333  0.333333  0.106533\n 19  O     0.833333  0.333333  0.106533\n 20  O     0.166667  0.666667  0.893467\n 21  O     0.666667  0.666667  0.893467\n 22  O     0.166667  0.666667  0.439867\n 23  O     0.666667  0.666667  0.439867\n\nindices Co to replace : [8, 11, 6]\n\n indices Li to remove : [4]\nFull Formula (Li5 Mn3 Co3 O12)\nReduced Formula: Li5Mn3(CoO4)3\nabc   :   5.628000   2.814000  14.048000\nangles:  90.000000  90.000000 120.000000\nSites (23)\n  #  SP           a         b         c\n---  ----  --------  --------  --------\n  0  Li    0         0         0.5\n  1  Li    0.5       0         0.5\n  2  Li    0.333333  0.333333  0.833333\n  3  Li    0.833333  0.333333  0.833333\n  4  Li    0.666667  0.666667  0.166667\n  5  Mn    0         0         0\n  6  Co    0.5       0         0\n  7  Mn    0.333333  0.333333  0.333333\n  8  Co    0.833333  0.333333  0.333333\n  9  Co    0.166667  0.666667  0.666667\n 10  Mn    0.666667  0.666667  0.666667\n 11  O     0         0         0.2268\n 12  O     0.5       0         0.2268\n 13  O     0         0         0.7732\n 14  O     0.5       0         0.7732\n 15  O     0.333333  0.333333  0.560133\n 16  O     0.833333  0.333333  0.560133\n 17  O     0.333333  0.333333  0.106533\n 18  O     0.833333  0.333333  0.106533\n 19  O     0.166667  0.666667  0.893467\n 20  O     0.666667  0.666667  0.893467\n 21  O     0.166667  0.666667  0.439867\n 22  O     0.666667  0.666667  0.439867\n"
    }
   ],
   "source": [
    "structure = mg.Structure.from_file(\"LiCoO2.cif\")\n",
    "big_structure = structure.copy()\n",
    "\n",
    "import random, math\n",
    "\n",
    "while True :\n",
    "    Li_indices = big_structure.indices_from_symbol(\"Li\")\n",
    "    nb_li = len(Li_indices)\n",
    "    co_indices = big_structure.indices_from_symbol(\"Co\")\n",
    "    nb_co = len(co_indices)\n",
    "    print(\" \\nNb of Li : {} // nb co {}\".format(nb_li, nb_co))\n",
    "    if nb_li // 6 > 0 and nb_co // 2 > 0 == 0 :\n",
    "        print(\"enough li & Mn\")\n",
    "        break\n",
    "    big_structure.make_supercell([2, 1, 1])    \n",
    "    print(\"no enough li or Mn, making supercell\")\n",
    "\n",
    "print(big_structure)\n",
    "\n",
    "nb_co_replace = int(nb_co//2) \n",
    "random_indices_to_replace = random.sample(co_indices, nb_co_replace)\n",
    "print(\"\\nindices Co to replace :\",  random_indices_to_replace)\n",
    "for i in random_indices_to_replace : \n",
    "    big_structure.replace(i,\"Mn\")\n",
    "\n",
    "nb_li_remove = int(nb_co//6) \n",
    "random_indices_to_remove = random.sample(Li_indices, nb_li_remove)\n",
    "print(\"\\n indices Li to remove :\",  random_indices_to_remove)\n",
    "big_structure.remove_sites(random_indices_to_remove)\n",
    "\n",
    "print(big_structure)"
   ]
  },
  {
   "cell_type": "markdown",
   "execution_count": 13,
   "metadata": {},
   "outputs": [],
   "source": [
    "### Solving the exercice using pymatgen builtin ordering functions  "
   ]
  },
  {
   "cell_type": "code",
   "execution_count": 7,
   "metadata": {},
   "outputs": [],
   "source": [
    "structure = mg.Structure.from_file(\"LiCoO2.cif\")\n",
    "disordered_structure = structure.copy()\n",
    "\n",
    "disordered_structure.replace_species({\"Co\" : {\"Mn\":0.5, \"Co\" : 0.5}}) # metal disorder\n",
    "disordered_structure.replace_species({\"Li\" : {\"Li\":5/6}}) # partial Li vacancy"
   ]
  },
  {
   "cell_type": "markdown",
   "execution_count": 18,
   "metadata": {},
   "outputs": [
    {
     "ename": "SyntaxError",
     "evalue": "invalid syntax (<ipython-input-18-93005219b1a6>, line 1)",
     "output_type": "error",
     "traceback": [
      "\u001b[0;36m  File \u001b[0;32m\"<ipython-input-18-93005219b1a6>\"\u001b[0;36m, line \u001b[0;32m1\u001b[0m\n\u001b[0;31m    enumeration of ALL distinct structures\u001b[0m\n\u001b[0m                 ^\u001b[0m\n\u001b[0;31mSyntaxError\u001b[0m\u001b[0;31m:\u001b[0m invalid syntax\n"
     ]
    }
   ],
   "source": [
    "enumeration of ALL distinct structures\n",
    "* search for large supercell if necessary (max cell size or nb of sites can be setup)\n",
    "* ordered by size (smallest first)"
   ]
  },
  {
   "cell_type": "code",
   "execution_count": 8,
   "metadata": {},
   "outputs": [
    {
     "data": {
      "text/plain": "{'num_sites': 23, 'structure': Structure Summary\n Lattice\n     abc : 2.814 2.814000000000001 28.096\n  angles : 90.0 90.0 59.999999999999986\n  volume : 192.67408806120096\n       A : 2.814 0.0 1.723078046400326e-16\n       B : 1.407000000000001 2.436995486249411 3.446156092800652e-16\n       C : 0.0 0.0 28.096\n PeriodicSite: Li (0.0000, 0.0000, 7.0240) [0.0000, 0.0000, 0.2500]\n PeriodicSite: Li (0.0000, 0.0000, 21.0720) [0.0000, 0.0000, 0.7500]\n PeriodicSite: Li (1.4070, 0.8123, 11.7067) [0.3333, 0.3333, 0.4167]\n PeriodicSite: Li (1.4070, 0.8123, 25.7547) [0.3333, 0.3333, 0.9167]\n PeriodicSite: Li (2.8140, 1.6247, 2.3413) [0.6667, 0.6667, 0.0833]\n PeriodicSite: Mn (0.0000, 0.0000, 0.0000) [0.0000, 0.0000, 0.0000]\n PeriodicSite: Mn (0.0000, 0.0000, 14.0480) [0.0000, 0.0000, 0.5000]\n PeriodicSite: Mn (1.4070, 0.8123, 18.7307) [0.3333, 0.3333, 0.6667]\n PeriodicSite: Co (1.4070, 0.8123, 4.6827) [0.3333, 0.3333, 0.1667]\n PeriodicSite: Co (2.8140, 1.6247, 9.3653) [0.6667, 0.6667, 0.3333]\n PeriodicSite: Co (2.8140, 1.6247, 23.4133) [0.6667, 0.6667, 0.8333]\n PeriodicSite: O (0.0000, 0.0000, 3.1861) [0.0000, 0.0000, 0.1134]\n PeriodicSite: O (0.0000, 0.0000, 17.2341) [0.0000, 0.0000, 0.6134]\n PeriodicSite: O (0.0000, 0.0000, 10.8619) [0.0000, 0.0000, 0.3866]\n PeriodicSite: O (0.0000, 0.0000, 24.9099) [0.0000, 0.0000, 0.8866]\n PeriodicSite: O (1.4070, 0.8123, 7.8688) [0.3333, 0.3333, 0.2801]\n PeriodicSite: O (1.4070, 0.8123, 21.9168) [0.3333, 0.3333, 0.7801]\n PeriodicSite: O (1.4070, 0.8123, 1.4966) [0.3333, 0.3333, 0.0533]\n PeriodicSite: O (1.4070, 0.8123, 15.5446) [0.3333, 0.3333, 0.5533]\n PeriodicSite: O (2.8140, 1.6247, 12.5514) [0.6667, 0.6667, 0.4467]\n PeriodicSite: O (2.8140, 1.6247, 26.5994) [0.6667, 0.6667, 0.9467]\n PeriodicSite: O (2.8140, 1.6247, 6.1792) [0.6667, 0.6667, 0.2199]\n PeriodicSite: O (2.8140, 1.6247, 20.2272) [0.6667, 0.6667, 0.7199]}"
     },
     "execution_count": 8,
     "metadata": {},
     "output_type": "execute_result"
    }
   ],
   "source": [
    "from pymatgen.transformations.advanced_transformations import EnumerateStructureTransformation\n",
    "\n",
    "trans = EnumerateStructureTransformation(max_cell_size=3)\n",
    "ss = trans.apply_transformation(disordered_structure,return_ranked_list=1000)\n",
    "\n",
    "ss[0]\n",
    "# supercell 211"
   ]
  },
  {
   "cell_type": "markdown",
   "execution_count": 15,
   "metadata": {},
   "outputs": [
    {
     "ename": "SyntaxError",
     "evalue": "invalid syntax (<ipython-input-15-3867965e361e>, line 1)",
     "output_type": "error",
     "traceback": [
      "\u001b[0;36m  File \u001b[0;32m\"<ipython-input-15-3867965e361e>\"\u001b[0;36m, line \u001b[0;32m1\u001b[0m\n\u001b[0;31m    ordering = lowest ewald sum\u001b[0m\n\u001b[0m                          ^\u001b[0m\n\u001b[0;31mSyntaxError\u001b[0m\u001b[0;31m:\u001b[0m invalid syntax\n"
     ]
    }
   ],
   "source": [
    "ordering = lowest ewald sum \n",
    "* fixed structure size \n",
    "* provide (guess) atomic oxidation states"
   ]
  },
  {
   "cell_type": "code",
   "execution_count": 44,
   "metadata": {},
   "outputs": [
    {
     "name": "stdout",
     "output_type": "stream",
     "text": "{'energy': -552.4665447802587, 'energy_above_minimum': 0.0, 'structure': Structure Summary\nLattice\n    abc : 5.628 2.814 14.048\n angles : 90.0 90.0 119.99999999999999\n volume : 192.67408806120096\n      A : 5.628 0.0 3.446156092800652e-16\n      B : -1.4069999999999991 2.436995486249411 1.723078046400326e-16\n      C : 0.0 0.0 14.048\nPeriodicSite: Li+ (0.0000, 0.0000, 7.0240) [0.0000, 0.0000, 0.5000]\nPeriodicSite: Li+ (1.4070, 0.8123, 11.7067) [0.3333, 0.3333, 0.8333]\nPeriodicSite: Li+ (4.2210, 0.8123, 11.7067) [0.8333, 0.3333, 0.8333]\nPeriodicSite: Li+ (0.0000, 1.6247, 2.3413) [0.1667, 0.6667, 0.1667]\nPeriodicSite: Li+ (2.8140, 1.6247, 2.3413) [0.6667, 0.6667, 0.1667]\nPeriodicSite: Mn3.66666667+ (0.0000, 0.0000, 0.0000) [0.0000, 0.0000, 0.0000]\nPeriodicSite: Mn3.66666667+ (1.4070, 0.8123, 4.6827) [0.3333, 0.3333, 0.3333]\nPeriodicSite: Mn3.66666667+ (2.8140, 1.6247, 9.3653) [0.6667, 0.6667, 0.6667]\nPeriodicSite: Co2.66666667+ (2.8140, 0.0000, 0.0000) [0.5000, 0.0000, 0.0000]\nPeriodicSite: Co2.66666667+ (4.2210, 0.8123, 4.6827) [0.8333, 0.3333, 0.3333]\nPeriodicSite: Co2.66666667+ (0.0000, 1.6247, 9.3653) [0.1667, 0.6667, 0.6667]\nPeriodicSite: O2- (0.0000, 0.0000, 3.1861) [0.0000, 0.0000, 0.2268]\nPeriodicSite: O2- (2.8140, 0.0000, 3.1861) [0.5000, 0.0000, 0.2268]\nPeriodicSite: O2- (0.0000, 0.0000, 10.8619) [0.0000, 0.0000, 0.7732]\nPeriodicSite: O2- (2.8140, 0.0000, 10.8619) [0.5000, 0.0000, 0.7732]\nPeriodicSite: O2- (1.4070, 0.8123, 7.8688) [0.3333, 0.3333, 0.5601]\nPeriodicSite: O2- (4.2210, 0.8123, 7.8688) [0.8333, 0.3333, 0.5601]\nPeriodicSite: O2- (1.4070, 0.8123, 1.4966) [0.3333, 0.3333, 0.1065]\nPeriodicSite: O2- (4.2210, 0.8123, 1.4966) [0.8333, 0.3333, 0.1065]\nPeriodicSite: O2- (0.0000, 1.6247, 12.5514) [0.1667, 0.6667, 0.8935]\nPeriodicSite: O2- (2.8140, 1.6247, 12.5514) [0.6667, 0.6667, 0.8935]\nPeriodicSite: O2- (0.0000, 1.6247, 6.1792) [0.1667, 0.6667, 0.4399]\nPeriodicSite: O2- (2.8140, 1.6247, 6.1792) [0.6667, 0.6667, 0.4399]}\n"
    }
   ],
   "source": [
    "from pymatgen.transformations.standard_transformations import OrderDisorderedStructureTransformation\n",
    "big_structure = disordered_structure.copy()\n",
    "big_structure.make_supercell([2, 1, 1]) \n",
    "big_structure.add_oxidation_state_by_guess()\n",
    "# print(big_structure)\n",
    "trans = OrderDisorderedStructureTransformation()\n",
    "\n",
    "ss = trans.apply_transformation(big_structure, return_ranked_list=100)\n",
    "\n",
    " \n",
    "print(ss[0])"
   ]
  },
  {
   "cell_type": "markdown",
   "execution_count": 91,
   "metadata": {},
   "outputs": [
    {
     "ename": "SyntaxError",
     "evalue": "invalid syntax (<ipython-input-91-81d931a9d4cc>, line 5)",
     "output_type": "error",
     "traceback": [
      "\u001b[0;36m  File \u001b[0;32m\"<ipython-input-91-81d931a9d4cc>\"\u001b[0;36m, line \u001b[0;32m5\u001b[0m\n\u001b[0;31m    The `pymatgen.io.vasp.sets` module provides a means to obtain a complete set of VASP input files for performing calculations.\u001b[0m\n\u001b[0m        ^\u001b[0m\n\u001b[0;31mSyntaxError\u001b[0m\u001b[0;31m:\u001b[0m invalid syntax\n"
     ]
    }
   ],
   "source": [
    "## VASP INPUTS \n",
    "\n",
    "### THE DEFAULT PYMATGEN PRESETS \n",
    "\n",
    "The `pymatgen.io.vasp.sets` module provides a means to obtain a complete set of VASP input files for performing calculations. \n",
    "\n",
    "Several presets based on the parameters used in the Materials Project are provided. They can all be changed easily. \n",
    "\n"
   ]
  },
  {
   "cell_type": "markdown",
   "execution_count": 74,
   "metadata": {},
   "outputs": [],
   "source": [
    "#### MPRelaxSet (material Project Relaxation set)"
   ]
  },
  {
   "cell_type": "code",
   "execution_count": 81,
   "metadata": {},
   "outputs": [
    {
     "name": "stdout",
     "output_type": "stream",
     "text": "LiCoO2\n"
    }
   ],
   "source": [
    "from pymatgen.io.vasp.sets import MPRelaxSet\n",
    "structure = mg.Structure.from_file(\"LiCoO2.cif\")\n",
    "relax = MPRelaxSet(structure)\n",
    "\n",
    "# option for nice formatting of oxides formulas \n",
    "pretty_compo = structure.composition.get_reduced_formula_and_factor()[0]\n",
    "print(pretty_compo)\n",
    "\n",
    "#Writes a complete set of input files for structure to the directory given\n",
    "relax.write_input(\"{}_Vasp_input_default\".format(pretty_compo)) "
   ]
  },
  {
   "cell_type": "markdown",
   "execution_count": 94,
   "metadata": {},
   "outputs": [
    {
     "ename": "SyntaxError",
     "evalue": "invalid syntax (<ipython-input-94-1013adf3603b>, line 2)",
     "output_type": "error",
     "traceback": [
      "\u001b[0;36m  File \u001b[0;32m\"<ipython-input-94-1013adf3603b>\"\u001b[0;36m, line \u001b[0;32m2\u001b[0m\n\u001b[0;31m    Generate VASP Input for Static Run\u001b[0m\n\u001b[0m                ^\u001b[0m\n\u001b[0;31mSyntaxError\u001b[0m\u001b[0;31m:\u001b[0m invalid syntax\n"
     ]
    }
   ],
   "source": [
    "#### MPStaticSet\n",
    "Generate VASP Input for Static Run"
   ]
  },
  {
   "cell_type": "code",
   "execution_count": 0,
   "metadata": {},
   "outputs": [],
   "source": [
    "from pymatgen.io.vasp.sets import MPStaticSet\n",
    "\n",
    "custom_settings = {\"NELM\": 60} # user custom incar settings\n",
    "static = MPStaticSet.from_prev_calc(\"Si-relax/\", standardize=True,\n",
    "                                    user_incar_settings=custom_settings)\n",
    "static.write_input(\"Si-static\")"
   ]
  },
  {
   "cell_type": "markdown",
   "execution_count": 90,
   "metadata": {},
   "outputs": [
    {
     "ename": "SyntaxError",
     "evalue": "invalid syntax (<ipython-input-90-177aa0ef77f8>, line 2)",
     "output_type": "error",
     "traceback": [
      "\u001b[0;36m  File \u001b[0;32m\"<ipython-input-90-177aa0ef77f8>\"\u001b[0;36m, line \u001b[0;32m2\u001b[0m\n\u001b[0;31m    Generate VASP Input for Density of State(DOS) and Band Structure(BS) calculation\u001b[0m\n\u001b[0m                ^\u001b[0m\n\u001b[0;31mSyntaxError\u001b[0m\u001b[0;31m:\u001b[0m invalid syntax\n"
     ]
    }
   ],
   "source": [
    "### MPNonSCFSet\n",
    "Generate VASP Input for Density of State(DOS) and Band Structure(BS) calculation"
   ]
  },
  {
   "cell_type": "code",
   "execution_count": 0,
   "metadata": {},
   "outputs": [],
   "source": [
    "from pymatgen.io.vasp.sets import MPNonSCFSet\n",
    "\n",
    "# generate uniform k-points for DOS calc.\n",
    "custom_settings = {\"LAECHG\": \"False\", \"LVHAR\": \"False\"} # user custom incar settings\n",
    "dos = MPNonSCFSet.from_prev_calc(\"Si-static/\", mode=\"uniform\",reciprocal_density=200,\n",
    "                                 user_incar_settings=custom_settings)\n",
    "dos.write_input(\"Si-dos\")\n",
    "\n",
    "# generate k-points along high symmetry line for band structure calc.\n",
    "band = MPNonSCFSet.from_prev_calc(\"Si-static/\", mode=\"line\", standardize=True,\n",
    "                                 user_incar_settings=custom_settings)\n",
    "band.write_input(\"Si-band\")"
   ]
  },
  {
   "cell_type": "markdown",
   "execution_count": 95,
   "metadata": {},
   "outputs": [
    {
     "ename": "SyntaxError",
     "evalue": "invalid syntax (<ipython-input-95-5869b69720e5>, line 2)",
     "output_type": "error",
     "traceback": [
      "\u001b[0;36m  File \u001b[0;32m\"<ipython-input-95-5869b69720e5>\"\u001b[0;36m, line \u001b[0;32m2\u001b[0m\n\u001b[0;31m    We can specify each of the parameters (INCAR, KPOINTS, POTCAR)\u001b[0m\n\u001b[0m         ^\u001b[0m\n\u001b[0;31mSyntaxError\u001b[0m\u001b[0;31m:\u001b[0m invalid syntax\n"
     ]
    }
   ],
   "source": [
    "### PERSONALIZATION OF YOUR VASP INPUT SET\n",
    "We can specify each of the parameters (INCAR, KPOINTS, POTCAR)"
   ]
  },
  {
   "cell_type": "code",
   "execution_count": 86,
   "metadata": {},
   "outputs": [],
   "source": [
    "incar_settings = {\"NELMIN\": 5} # user custom incar settings\n",
    "\n",
    "kpoint_settings = {\"reciprocal_density\" : 100}\n",
    "\n",
    "# NB : may require to setup custor POTCAR repository\n",
    "functional = \"PBE_54\" # “PBE”, “PBE_52”, “PBE_54”, “LDA”, “LDA_52”, “LDA_54”, “PW91”, “LDA_US”, “PW91_US”\n",
    "\n",
    "relax = MPRelaxSet(structure, \n",
    "        user_incar_settings=incar_settings, \n",
    "        user_kpoints_settings = kpoint_settings, \n",
    "        potcar_functional=functional )\n",
    "\n",
    "relax.write_input(\"{}_Vasp_input_modified\".format(pretty_compo)) "
   ]
  },
  {
   "cell_type": "markdown",
   "execution_count": 75,
   "metadata": {},
   "outputs": [
    {
     "ename": "SyntaxError",
     "evalue": "invalid syntax (<ipython-input-75-640e16cd12a7>, line 2)",
     "output_type": "error",
     "traceback": [
      "\u001b[0;36m  File \u001b[0;32m\"<ipython-input-75-640e16cd12a7>\"\u001b[0;36m, line \u001b[0;32m2\u001b[0m\n\u001b[0;31m    Individual Magmoms\u001b[0m\n\u001b[0m                     ^\u001b[0m\n\u001b[0;31mSyntaxError\u001b[0m\u001b[0;31m:\u001b[0m invalid syntax\n"
     ]
    }
   ],
   "source": [
    "#### Advanced parametrization, based on atom-wise properties\n",
    "Individual Magmoms"
   ]
  },
  {
   "cell_type": "code",
   "execution_count": 80,
   "metadata": {},
   "outputs": [
    {
     "name": "stdout",
     "output_type": "stream",
     "text": "Full Formula (Li3 Co3 O6)\nReduced Formula: LiCoO2\nabc   :   2.814000   2.814000  14.048000\nangles:  90.000000  90.000000 120.000000\nSites (12)\n  #  SP                a         b         c\n---  ---------  --------  --------  --------\n  0  Li,spin=0  0         0         0.5\n  1  Li,spin=0  0.666667  0.333333  0.833333\n  2  Li,spin=0  0.333333  0.666667  0.166667\n  3  Co,spin=3  0         0         0\n  4  Co,spin=3  0.666667  0.333333  0.333333\n  5  Co,spin=3  0.333333  0.666667  0.666667\n  6  O,spin=0   0         0         0.2268\n  7  O,spin=0   0         0         0.7732\n  8  O,spin=0   0.666667  0.333333  0.560133\n  9  O,spin=0   0.666667  0.333333  0.106533\n 10  O,spin=0   0.333333  0.666667  0.893467\n 11  O,spin=0   0.333333  0.666667  0.439867\n"
    }
   ],
   "source": [
    "structure = mg.Structure.from_file(\"LiCoO2.cif\")\n",
    "structure.add_spin_by_element({\"Li\":0,\"Co\":+3,\"O\":0} )\n",
    "print(structure)\n",
    "relax = MPRelaxSet(structure)\n",
    "relax.write_input(\"{}_Vasp_input_magmoms\".format(pretty_compo)) \n",
    "\n",
    "# => check magmom tag in the INCAR"
   ]
  },
  {
   "cell_type": "markdown",
   "execution_count": 98,
   "metadata": {},
   "outputs": [
    {
     "ename": "SyntaxError",
     "evalue": "invalid syntax (<ipython-input-98-89a376fe8c37>, line 1)",
     "output_type": "error",
     "traceback": [
      "\u001b[0;36m  File \u001b[0;32m\"<ipython-input-98-89a376fe8c37>\"\u001b[0;36m, line \u001b[0;32m1\u001b[0m\n\u001b[0;31m    Selective dynamic\u001b[0m\n\u001b[0m                    ^\u001b[0m\n\u001b[0;31mSyntaxError\u001b[0m\u001b[0;31m:\u001b[0m invalid syntax\n"
     ]
    }
   ],
   "source": [
    "Selective dynamic "
   ]
  },
  {
   "cell_type": "code",
   "execution_count": 77,
   "metadata": {},
   "outputs": [
    {
     "name": "stdout",
     "output_type": "stream",
     "text": "Full Formula (Li3 Co3 O6)\nReduced Formula: LiCoO2\nabc   :   2.814000   2.814000  14.048000\nangles:  90.000000  90.000000 120.000000\nSites (12)\n  #  SP           a         b         c  selective_dynamics\n---  ----  --------  --------  --------  --------------------\n  0  Li    0         0         0.5       [ True  True False]\n  1  Li    0.666667  0.333333  0.833333  [ True  True False]\n  2  Li    0.333333  0.666667  0.166667  [ True  True False]\n  3  Co    0         0         0         [False False False]\n  4  Co    0.666667  0.333333  0.333333  [False False False]\n  5  Co    0.333333  0.666667  0.666667  [False False False]\n  6  O     0         0         0.2268    [False False False]\n  7  O     0         0         0.7732    [False False False]\n  8  O     0.666667  0.333333  0.560133  [False False False]\n  9  O     0.666667  0.333333  0.106533  [False False False]\n 10  O     0.333333  0.666667  0.893467  [False False False]\n 11  O     0.333333  0.666667  0.439867  [False False False]\n"
    }
   ],
   "source": [
    "# we decide to move only the Li in the X-Y plane : \n",
    "structure = mg.Structure.from_file(\"LiCoO2.cif\")\n",
    "select_dyn_array = np.zeros((structure.num_sites, 3), dtype = bool)\n",
    "for x in structure.indices_from_symbol(\"Li\") :\n",
    "    select_dyn_array[x,:2]=True\n",
    "# print(select_dyn_array)\n",
    "structure.add_site_property(\"selective_dynamics\", select_dyn_array)\n",
    "print(structure)\n",
    "relax = MPRelaxSet(structure)\n",
    "relax.write_input(\"{}_Vasp_input_selective_dynamic\".format(pretty_compo)) \n",
    "\n",
    "# => check selective dyn in the POSCAR "
   ]
  },
  {
   "cell_type": "markdown",
   "execution_count": 4,
   "metadata": {},
   "outputs": [
    {
     "ename": "SyntaxError",
     "evalue": "invalid syntax (<ipython-input-4-faa9c4fea97d>, line 2)",
     "output_type": "error",
     "traceback": [
      "\u001b[0;36m  File \u001b[0;32m\"<ipython-input-4-faa9c4fea97d>\"\u001b[0;36m, line \u001b[0;32m2\u001b[0m\n\u001b[0;31m    The built-in InputSet class is quite limited because once it is created we cannot change anything.\u001b[0m\n\u001b[0m            ^\u001b[0m\n\u001b[0;31mSyntaxError\u001b[0m\u001b[0;31m:\u001b[0m invalid syntax\n"
     ]
    }
   ],
   "source": [
    "## the Job class\n",
    "The built-in InputSet class is quite limited because once it is created we cannot change anything.\n",
    " Furthermore the incar defaults might differ from what we want. \n",
    "\n",
    "However, we can create a child class, the Job class, which inherits from the InputSet class.\n",
    "Below is an extract of the Job class definition in the module write_job. \n",
    "\n",
    "its has more possibilities such as : \n",
    "* personalized default incar\n",
    "* modify the structure, incar, kpoints, ... until we write the files down in the folder\n",
    "* duplicate a Job\n",
    "* create a job from a converged run (Rundict class, see session 4)\n",
    "* pretty formatting for the name of the folder\n",
    "* possible modification of the structure \n",
    "\n",
    "and we can still add more ! \n",
    "\n",
    "have a look at the write_job module if you are interested"
   ]
  },
  {
   "cell_type": "code",
   "execution_count": 0,
   "metadata": {},
   "outputs": [],
   "source": [
    "class Job(MPRelaxSet):\n",
    "    \"\"\"Describe a VASP run BEFORE computation\n",
    "\n",
    "        Holds and modifies VASP inputs (Structure, INCAR, Kpoint,...)\n",
    "        before writing the files in the folder\n",
    "\n",
    "        lazy use of MPRelaxSet .__init__ & .write to create files\"\"\"\n",
    "\n",
    "    @property\n",
    "    def structure(self):\n",
    "        \"\"\"Bypass (overload) structure access restricted in pmg.MPRelaxSet\"\"\"\n",
    "        return self._structure\n",
    "\n",
    "    @structure.setter\n",
    "    def structure(self, value):\n",
    "        \"\"\"\"Bypass (overload) structure modification restricted in pmg.MPRelaxSet\"\"\"\n",
    "        self._structure = value\n",
    "\n",
    "    def __init__(self, structure, entry_id,\n",
    "                 user_param=None, user_incar=None,\n",
    "                 job_folder=\"\", **kwargs):\n",
    "        \"\"\"Generates a runDict from a Computed entry if it is none None\"\"\"\n",
    "\n",
    "        self.explicit_jobpath = False\n",
    "        self.entry_id = entry_id\n",
    "        self.job_folder = job_folder\n",
    "\n",
    "        self.user_kpoint = {'reciprocal_density': 100}\n",
    "        self.user_param = user_param\n",
    "        self.user_incar = user_incar if user_incar is not None \\\n",
    "            else default_incar()\n",
    "\n",
    "        self.kwargs = kwargs\n",
    "        for (key, value) in kwargs.items():\n",
    "            setattr(self, key, value)\n",
    "\n",
    "        self.standardize = False\n",
    "        self.structure = structure\n",
    "\n",
    "        self.nb_cell = 1\n",
    "        self.x_na = 0\n",
    "        self.formula = \"\"\n",
    "        self.old_folder = None\n",
    "        self.job_name = self.set_job_name()"
   ]
  }
 ],
 "metadata": {
  "kernelspec": {
   "display_name": "Python 3",
   "language": "python",
   "name": "python3"
  },
  "language_info": {
   "codemirror_mode": {
    "name": "ipython",
    "version": 3
   },
   "file_extension": ".py",
   "mimetype": "text/x-python",
   "name": "python",
   "nbconvert_exporter": "python",
   "pygments_lexer": "ipython3",
   "version": "3.6.9"
  }
 },
 "nbformat": 4,
 "nbformat_minor": 2
}