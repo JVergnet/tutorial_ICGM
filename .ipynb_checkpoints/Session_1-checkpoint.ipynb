{
 "cells": [
  {
   "cell_type": "markdown",
   "metadata": {},
   "source": [
    "# OUTLINE\n",
    " __1 Python basics : Setup, syntax & standard libraries__\n",
    "        \n",
    " 2 Pymatgen 1 : build a structure & write a vasp job\n",
    "    \n",
    " 3 Python + slurm + bash : launch a vasp job\n",
    "    \n",
    " 4 Pymatgen 2 : read a vasp job & plot DOS\n",
    "    \n",
    " 5 Matplotlib : make your own plots \n",
    "    \n",
    " 6 Pymatgen 3 : advanced functionalities (disorder, bader, lobster ... )\n",
    "    \n",
    " 7 the read_write library : installation, work flow & examples\n"
   ]
  },
  {
   "cell_type": "markdown",
   "metadata": {},
   "source": [
    "# Session 1 : Python Basics\n",
    "## Installation of working station \n",
    "### Mandatory : python and jupyter notebook\n",
    "\n",
    "CHeck that you have python installed by typing `python3` in the terminal. If you don't, install it : \n",
    "\n",
    "`sudo apt-get install python`\n",
    "\t\n",
    "First install basic  jupyter notebook  \n",
    "\n",
    "`pip3 install --upgrade pip && pip3 install jupyter` then launch with `jupyter notebook`\n",
    "\n",
    "### Optionnal : improve your coding environment\n",
    "* __Easy__ : install *JupyterLab* (more fancy web-based interface) [(try it first if you want)]()\n",
    "\n",
    "`pip3 install jupyterlab` then launch with `jupyter lab`\n",
    "\n",
    "* __All-inclusive__ : install [*VS-Code*](https://code.visualstudio.com/) (my personnal preference !)\n",
    "\n",
    "Complete beautiful and fonctionnal IDE, microsoft BUT opensource, incredible plugins for python, jupyter & git !!!\n",
    "\n",
    "`sudo snap install --classic code` or [download the .deb here](https://code.visualstudio.com/Download) and do `sudo apt install *.deb`\n",
    "\n",
    "*Come on, its christmas, treat yourself and use a proper code editor ! *\n",
    "\n",
    "* __old-school__ : if you are *emacs* fanatic : \n",
    "\n",
    "integrate jupyter via the [ein emacs package ](https://github.com/tkf/emacs-ipython-notebook) (emacs ipython notebook)\n",
    "\n",
    "(beware plot are not interactive)\n",
    "\n",
    "* __deprecated__ : sorry *vim* is not enough for what we want here ..."
   ]
  },
  {
   "cell_type": "markdown",
   "metadata": {},
   "source": [
    "## Syntax : \n",
    "Variable names are a link to their values (pointer)\n",
    "\n",
    "Therefore variable have no type, only values have type \n",
    "\n",
    "No variable declaration required (declaration 'on the fly')\n",
    "\n",
    "Python has an efficient garbage collector, no need to suppress variables by hand"
   ]
  },
  {
   "cell_type": "code",
   "execution_count": 2,
   "metadata": {},
   "outputs": [
    {
     "name": "stdout",
     "output_type": "stream",
     "text": [
      "5 type <class 'int'>\n",
      "1.00005 type <class 'float'>\n",
      "hello world type <class 'str'>\n"
     ]
    }
   ],
   "source": [
    "a = 2+3\n",
    "print(a,'type', type(a))\n",
    "a = 1.00005 \n",
    "print(a,'type', type(a))\n",
    "a = \"hello world\" \n",
    "print(a,'type', type(a))\n"
   ]
  },
  {
   "cell_type": "code",
   "execution_count": 91,
   "metadata": {},
   "outputs": [
    {
     "name": "stdout",
     "output_type": "stream",
     "text": [
      "1\n"
     ]
    }
   ],
   "source": [
    "a = 1\n",
    "b = a # the right part is evaluated and assigned to the left part (pointer)\n",
    "a = 'minux' \n",
    "print(b) "
   ]
  },
  {
   "cell_type": "markdown",
   "metadata": {},
   "source": [
    "## Data structures : \n",
    "useful = list \\[1\\] // dict { \"a\": 1 }\n",
    "\n",
    "less common = set {1} // tuple (1)"
   ]
  },
  {
   "cell_type": "code",
   "execution_count": 107,
   "metadata": {},
   "outputs": [
    {
     "name": "stdout",
     "output_type": "stream",
     "text": [
      "[1, 2, 3, 'soleil'] // L[1] =  2\n",
      "{'a': 1, 'b': 2, 'c': 3, 'd': 'soleil'} // D['b'] =  2\n"
     ]
    }
   ],
   "source": [
    "# LIST  = key is an int, value can be any object\n",
    "# read / write value by number (start with 0)\n",
    "L = [1,2,3]\n",
    "L.append(\"soleil\")\n",
    "print( L, \"// L[1] = \", L[1])\n",
    "\n",
    "\n",
    "# DICT = key is a string, value can be any object\n",
    "# read / write value by name\n",
    "D = {\"a\" : 1, \"b\" : 2,\"c\" : 3}\n",
    "D[\"d\"]=\"soleil\"\n",
    "print( D, \"// D['b'] = \", D[\"b\"])\n"
   ]
  },
  {
   "cell_type": "code",
   "execution_count": 108,
   "metadata": {},
   "outputs": [
    {
     "name": "stdout",
     "output_type": "stream",
     "text": [
      "{'soleil', 1, 2, 3}\n",
      "3\n"
     ]
    }
   ],
   "source": [
    "# other types less usefull\n",
    "\n",
    "# SET = list with unique members\n",
    "# useful to avoid doubles\n",
    "S = {1,2,3,\"soleil\",2,3,2,3}\n",
    "print(S) \n",
    "\n",
    "# TUPLE = \"immutable\" list, cannot be modified after creation\n",
    "# faster iteration than list \n",
    "T = (1,2,3, \"soleil\")\n",
    "print(T[2])"
   ]
  },
  {
   "cell_type": "markdown",
   "metadata": {},
   "source": [
    "## logical operators : \n"
   ]
  },
  {
   "cell_type": "code",
   "execution_count": 6,
   "metadata": {},
   "outputs": [
    {
     "name": "stdout",
     "output_type": "stream",
     "text": [
      "1\n",
      "2\n",
      "3\n",
      "\n",
      "\n",
      "a\n",
      "b\n",
      "c\n"
     ]
    }
   ],
   "source": [
    "# for loop\n",
    "for a in [1,2,3] :\n",
    "    print(a)\n",
    "\n",
    "print(\"\\n\") #escaped character for line break\n",
    "\n",
    "for a in \"abc\" : # string = list of letters\n",
    "    print(a)"
   ]
  },
  {
   "cell_type": "markdown",
   "metadata": {},
   "source": [
    "__indentation is MANDATORY__"
   ]
  },
  {
   "cell_type": "code",
   "execution_count": 7,
   "metadata": {},
   "outputs": [
    {
     "name": "stdout",
     "output_type": "stream",
     "text": [
      "1\n",
      "2\n",
      "3\n",
      "linebreak outside loop \n",
      "\n",
      "1\n",
      "linebreak inside loop\n",
      "2\n",
      "linebreak inside loop\n",
      "3\n",
      "linebreak inside loop\n"
     ]
    }
   ],
   "source": [
    "for a in [1,2,3] :\n",
    "    print(a)\n",
    "print(\"linebreak outside loop \\n\")\n",
    "\n",
    "for a in [1,2,3] :\n",
    "    print(a)\n",
    "    print(\"linebreak inside loop\")"
   ]
  },
  {
   "cell_type": "code",
   "execution_count": 5,
   "metadata": {},
   "outputs": [
    {
     "name": "stdout",
     "output_type": "stream",
     "text": [
      "a >= 2\n"
     ]
    }
   ],
   "source": [
    "# if loop\n",
    "a = 2\n",
    "if a >= 2 :\n",
    "    print(\"a >= 2\")\n",
    "elif a < 1 : \n",
    "    print(\"a < 1\")\n",
    "else :\n",
    "    print(\"a = 1\")"
   ]
  },
  {
   "cell_type": "code",
   "execution_count": 28,
   "metadata": {},
   "outputs": [
    {
     "name": "stdout",
     "output_type": "stream",
     "text": [
      "list comprehension :  [2, 4, 6, 8, 10, 12, 14]\n",
      "list comprehension using range() fct :  [0, 2, 4, 6, 8, 10, 12]\n",
      "list with condition :  [0, 2, 4, 6, 8]\n",
      "dict comprehension with condition :  {'a': 0, 'c': 4, 'e': 8, 'g': 12}\n"
     ]
    }
   ],
   "source": [
    "# list comprehension \n",
    "simple_list = [ 2*a for a in [1,2,3,4,5,6,7]]\n",
    "print(\"list comprehension : \", simple_list)\n",
    "\n",
    "#range function (start at 0)\n",
    "simple_list = [ 2*a for a in range(7)]\n",
    "print(\"list comprehension using range() fct : \", simple_list)\n",
    "\n",
    "# with condition\n",
    "list_w_condition = [ 2*a for a in range(7) if 2*a<10 ]\n",
    "print(\"list with condition : \", list_w_condition)\n",
    "\n",
    "# dict comprehension with zip of 2 lists\n",
    "dict_w_condition = { keyword : 2*value for keyword,value in zip(\"abcdefg\",range(7)) if value%2==0}\n",
    "print(\"dict comprehension with condition : \", dict_w_condition)\n",
    "    "
   ]
  },
  {
   "cell_type": "markdown",
   "metadata": {},
   "source": [
    "### Exercise \n",
    "display all prime numbers between 0 and 20"
   ]
  },
  {
   "cell_type": "code",
   "execution_count": null,
   "metadata": {},
   "outputs": [],
   "source": [
    "# this is the cell for the exercise ! "
   ]
  },
  {
   "cell_type": "markdown",
   "metadata": {},
   "source": [
    "\n",
    "\n",
    "\n",
    "\n",
    "\n",
    "\n",
    "\n"
   ]
  },
  {
   "cell_type": "code",
   "execution_count": 24,
   "metadata": {},
   "outputs": [
    {
     "name": "stdout",
     "output_type": "stream",
     "text": [
      "[2, 3, 5, 7, 11, 13, 17, 19]\n"
     ]
    }
   ],
   "source": [
    "# simple method\n",
    "L = []\n",
    "for n in range(2,20) : \n",
    "    prime = True\n",
    "    for p in L :\n",
    "        if n%p==0 :\n",
    "            prime = False\n",
    "    if prime : \n",
    "        L.append(n)\n",
    "print(L)\n"
   ]
  },
  {
   "cell_type": "code",
   "execution_count": 6,
   "metadata": {},
   "outputs": [
    {
     "name": "stdout",
     "output_type": "stream",
     "text": [
      "[2, 3, 5, 7, 11, 13, 17, 19]\n"
     ]
    }
   ],
   "source": [
    "# same thing using for / break / else \n",
    "L = []\n",
    "for n in range(2,20) : \n",
    "    for p in L :\n",
    "        if n%p==0 :\n",
    "            break # exit the for loop \n",
    "    else : # executed after a for loop if no break was encountered\n",
    "        L.append(n)\n",
    "print(L)"
   ]
  },
  {
   "cell_type": "code",
   "execution_count": 15,
   "metadata": {},
   "outputs": [
    {
     "name": "stdout",
     "output_type": "stream",
     "text": [
      "[2, 3, 5, 7, 11, 13, 17, 19]\n"
     ]
    }
   ],
   "source": [
    "# nested list comprehension\n",
    "L = [n for n in range(2,20) if len([ p for p in range(2,n) if n%p==0]) == 0 ]\n",
    "print(L)"
   ]
  },
  {
   "cell_type": "code",
   "execution_count": 20,
   "metadata": {},
   "outputs": [
    {
     "name": "stdout",
     "output_type": "stream",
     "text": [
      "[2, 3, 5, 7, 11, 13, 17, 19]\n"
     ]
    }
   ],
   "source": [
    "# the best way : less work, more readable, more reliable\n",
    "from sympy import primerange # we import a function from a library (see below for more explanation)\n",
    "print([ n for n in primerange(1, 20)])"
   ]
  },
  {
   "cell_type": "markdown",
   "metadata": {},
   "source": [
    "__take home message__ : if you want to do it, someone has already coded it (and probably better than you would)"
   ]
  },
  {
   "cell_type": "markdown",
   "metadata": {},
   "source": [
    "## Object oriented : Functions, class & instances\n",
    "\n",
    "__function__ : take several arguments and product several outputs\n",
    "\n",
    "__class__ : contains values and functions (which are attributes)\n",
    "\n",
    "__instance__ : Specific member of the class"
   ]
  },
  {
   "cell_type": "markdown",
   "metadata": {},
   "source": [
    "### Functions"
   ]
  },
  {
   "cell_type": "code",
   "execution_count": 9,
   "metadata": {},
   "outputs": [
    {
     "name": "stdout",
     "output_type": "stream",
     "text": [
      "<function x_by_2 at 0x7efdcdadf378>\n",
      "24\n"
     ]
    }
   ],
   "source": [
    "def x_by_2(number) :\n",
    "        return 2*number\t\n",
    "a = 12\n",
    "print(x_by_2) # function\n",
    "print(x_by_2(a)) # value of the function"
   ]
  },
  {
   "cell_type": "code",
   "execution_count": 51,
   "metadata": {},
   "outputs": [
    {
     "data": {
      "text/plain": [
       "(12, -2, False)"
      ]
     },
     "execution_count": 51,
     "metadata": {},
     "output_type": "execute_result"
    }
   ],
   "source": [
    "# there may be several inputs and outputs\n",
    "def sum_and_diff_and_compare(a,b) :\n",
    "        return (a+b,a-b,a>b)\n",
    "\n",
    "sum_and_diff_and_compare(5,7)"
   ]
  },
  {
   "cell_type": "code",
   "execution_count": 50,
   "metadata": {},
   "outputs": [
    {
     "name": "stdout",
     "output_type": "stream",
     "text": [
      "\n",
      "Argument can be refeenced by position (order determines which is which)\n",
      "3\n",
      "\n",
      "referenced by key word (order does not count) \n",
      "3\n",
      "3\n",
      "\n",
      "Referenced by a mix of position and kw (in which case order is important)\n",
      "3\n"
     ]
    },
    {
     "ename": "TypeError",
     "evalue": "computation_time() got multiple values for argument 'time_by_task'",
     "output_type": "error",
     "traceback": [
      "\u001b[0;31m---------------------------------------------------------------------------\u001b[0m",
      "\u001b[0;31mTypeError\u001b[0m                                 Traceback (most recent call last)",
      "\u001b[0;32m<ipython-input-50-a9635ec30dab>\u001b[0m in \u001b[0;36m<module>\u001b[0;34m()\u001b[0m\n\u001b[1;32m     11\u001b[0m \u001b[0mprint\u001b[0m\u001b[0;34m(\u001b[0m \u001b[0;34m\"\\nReferenced by a mix of position and kw (in which case order is important)\"\u001b[0m\u001b[0;34m)\u001b[0m\u001b[0;34m\u001b[0m\u001b[0;34m\u001b[0m\u001b[0m\n\u001b[1;32m     12\u001b[0m \u001b[0mprint\u001b[0m\u001b[0;34m(\u001b[0m\u001b[0mcomputation_time\u001b[0m\u001b[0;34m(\u001b[0m\u001b[0;36m1\u001b[0m\u001b[0;34m,\u001b[0m \u001b[0mnumber_of_task\u001b[0m\u001b[0;34m=\u001b[0m\u001b[0;36m3\u001b[0m\u001b[0;34m)\u001b[0m\u001b[0;34m)\u001b[0m\u001b[0;34m\u001b[0m\u001b[0;34m\u001b[0m\u001b[0m\n\u001b[0;32m---> 13\u001b[0;31m \u001b[0mprint\u001b[0m\u001b[0;34m(\u001b[0m\u001b[0mcomputation_time\u001b[0m\u001b[0;34m(\u001b[0m\u001b[0;36m3\u001b[0m\u001b[0;34m,\u001b[0m \u001b[0mtime_by_task\u001b[0m\u001b[0;34m=\u001b[0m\u001b[0;36m1\u001b[0m\u001b[0;34m)\u001b[0m\u001b[0;34m)\u001b[0m \u001b[0;31m# error\u001b[0m\u001b[0;34m\u001b[0m\u001b[0;34m\u001b[0m\u001b[0m\n\u001b[0m",
      "\u001b[0;31mTypeError\u001b[0m: computation_time() got multiple values for argument 'time_by_task'"
     ]
    }
   ],
   "source": [
    "def computation_time(time_by_task, number_of_task):\n",
    "        return time_by_task*number_of_task\n",
    "\n",
    "print(\"\\nArgument can be refeenced by position (order determines which is which)\")\n",
    "print(computation_time(1, 3))\n",
    "\n",
    "print(\"\\nreferenced by key word only (order does not count) \")\n",
    "print(computation_time(time_by_task=1, number_of_task=3))\n",
    "print(computation_time(number_of_task=3, time_by_task=1))\n",
    "\n",
    "print( \"\\nReferenced by a mix of position and kw (here order is important)\")\n",
    "print(computation_time(1, number_of_task=3))\n",
    "print(computation_time(3, time_by_task=1)) # error"
   ]
  },
  {
   "cell_type": "code",
   "execution_count": 59,
   "metadata": {},
   "outputs": [
    {
     "name": "stdout",
     "output_type": "stream",
     "text": [
      "There may be optionnal arguments\n",
      "explicit call to all arguments  Result : 1.0\n",
      "default values provided in the function definition) : nb_of_nodes=1 Result  : 3.0\n"
     ]
    }
   ],
   "source": [
    "print(\"There may be optionnal arguments\")\n",
    "def computation_time(time_by_task, number_of_task, nb_of_nodes=1):\n",
    "        return time_by_task*number_of_task/nb_of_nodes\n",
    "\n",
    "print(\"explicit call to all arguments  Result :\", \n",
    "                    computation_time(time_by_task=1, number_of_task=3,nb_of_nodes=3 ))        \n",
    "\n",
    "print(\"default values provided in the function definition) : nb_of_nodes=1 Result  :\",\n",
    "                    computation_time(time_by_task=1, number_of_task=3)) # default to nb_of_nodes=1\n"
   ]
  },
  {
   "cell_type": "markdown",
   "metadata": {},
   "source": [
    "### Class & instances"
   ]
  },
  {
   "cell_type": "code",
   "execution_count": 242,
   "metadata": {},
   "outputs": [
    {
     "name": "stdout",
     "output_type": "stream",
     "text": [
      "<class '__main__.Student'>\n",
      "<__main__.Student object at 0x7ff92b6a13c8>\n"
     ]
    }
   ],
   "source": [
    "class Student(): # a class\n",
    "    pass\n",
    "\n",
    "print(Student) #  a class \n",
    "\n",
    "micheline = Student()\n",
    "print(micheline) \n",
    "# Micheline is \"one of the\" students\n",
    "# an object from the class Student (called an instance of the class)\n",
    "# printed with hexadecimal adress pointer to unique memory location of that instance\n",
    "\n"
   ]
  },
  {
   "cell_type": "code",
   "execution_count": 243,
   "metadata": {},
   "outputs": [
    {
     "name": "stdout",
     "output_type": "stream",
     "text": [
      "micheline 24\n",
      "jean_jacques 12\n"
     ]
    }
   ],
   "source": [
    "# a object has attribute \n",
    "micheline.age = 24 # they can be written\n",
    "print(\"micheline\", micheline.age) # and they can be read\n",
    "\n",
    "jean_jacques = Student()\n",
    "jean_jacques.age = 12\n",
    "print(\"jean_jacques\", jean_jacques.age)"
   ]
  },
  {
   "cell_type": "code",
   "execution_count": 249,
   "metadata": {},
   "outputs": [
    {
     "name": "stdout",
     "output_type": "stream",
     "text": [
      "micheline 24 ICGM\n",
      "ICGM !!\n",
      "\n",
      "jean_jacques is 12 and works at ICGM\n",
      "ICGM !!\n"
     ]
    }
   ],
   "source": [
    "# attribute can also be defined in the class itself\n",
    "# these class attributes are the same for all\n",
    "# these attributes can be variables ('work') or functions ('where_do_I_work')\n",
    "\n",
    "class Student():\n",
    "    work=\"ICGM\" # shared by all = CLASS attribute\n",
    "\n",
    "    def where_do_I_work(self):\n",
    "        print(\"ICGM !!\")\n",
    "\n",
    "micheline = Student()\n",
    "micheline.age = 24 # there are attribute specific to each INSTANCE, added after the initialization\n",
    "print(\"micheline\", micheline.age, micheline.work)\n",
    "micheline.where_do_I_work()\n",
    "\n",
    "jean_jacques = Student()\n",
    "jean_jacques.age = 12\n",
    "# we improve the string formatting\n",
    "print(\"\\njean_jacques is {} and works at {}\".format(jean_jacques.age, jean_jacques.work)) \n",
    "micheline.where_do_I_work()\n"
   ]
  },
  {
   "cell_type": "code",
   "execution_count": 250,
   "metadata": {},
   "outputs": [
    {
     "name": "stdout",
     "output_type": "stream",
     "text": [
      "<class 'method'>\n",
      "<class 'bool'>\n",
      "micheline can have a beer ?  True\n",
      "jean_jacques can have a beer ?  False\n"
     ]
    }
   ],
   "source": [
    "# the __init__ mthod is called when creating a new instance (called instanciation)\n",
    "# instance attributes can be setup at that moment \n",
    "\n",
    "class Student():\n",
    "    work=\"ICGM\" # shared by all \n",
    "    def __init__(self, age):\n",
    "        self.age = age # attribute specific to each INSTANCE, added DURING the initialization\n",
    "\n",
    "    def is_major(self):\n",
    "        if self.age >=18 : \n",
    "            return True\n",
    "        else :\n",
    "            return False\n",
    "\n",
    "\n",
    "micheline = Student(24) # __init__ function is called when creating the instance\n",
    "print(type(micheline.is_major    )) \n",
    "# micheline.is_major is a functiion\n",
    "\n",
    "print(type(micheline.is_major()  )) \n",
    "# micheline.is_major() is a boolean value : the result of the function \n",
    "# no need for argument, the value is stored within the instance 'micheline'\n",
    "\n",
    "print(\"micheline can have a beer ? \",micheline.is_major() ) \n",
    "\n",
    "jean_jacques = Student(12)\n",
    "print(\"jean_jacques can have a beer ? \",jean_jacques.is_major())"
   ]
  },
  {
   "cell_type": "code",
   "execution_count": 129,
   "metadata": {},
   "outputs": [
    {
     "name": "stdout",
     "output_type": "stream",
     "text": [
      "micheline is older than jean_jacques ? True !!!\n"
     ]
    }
   ],
   "source": [
    "class Student():\n",
    "    \n",
    "    def __init__(self, age, name):\n",
    "        self.age = age\n",
    "        self.name = name\n",
    "\n",
    "    \n",
    "    def is_older_than(self, other_student) :\n",
    "        if self.age > other_student.age : # comparing instance attribute with function argument\n",
    "            return True\n",
    "        else :\n",
    "            return False\n",
    "\n",
    "A = Student(24, \"micheline\")\n",
    "B = Student(12,\"jean_jacques\")\n",
    "print(\"{} is older than {} ? {} !!!\".format(A.name,B.name, A.is_older_than(B) ))\n",
    "# we give another instance as argument\n",
    "# this makes the language very readable"
   ]
  },
  {
   "cell_type": "code",
   "execution_count": 132,
   "metadata": {},
   "outputs": [
    {
     "name": "stdout",
     "output_type": "stream",
     "text": [
      "micheline is older than jean_jacques ? True !!!\n",
      "I work at ICGM ! youpi !\n"
     ]
    },
    {
     "ename": "AttributeError",
     "evalue": "'Student' object has no attribute 'where_do_you_work'",
     "output_type": "error",
     "traceback": [
      "\u001b[0;31m---------------------------------------------------------------------------\u001b[0m",
      "\u001b[0;31mAttributeError\u001b[0m                            Traceback (most recent call last)",
      "\u001b[0;32m<ipython-input-132-19f6e2cd311d>\u001b[0m in \u001b[0;36m<module>\u001b[0;34m()\u001b[0m\n\u001b[1;32m      9\u001b[0m \u001b[0mprint\u001b[0m\u001b[0;34m(\u001b[0m\u001b[0;34m\"{} is older than {} ? {} !!!\"\u001b[0m\u001b[0;34m.\u001b[0m\u001b[0mformat\u001b[0m\u001b[0;34m(\u001b[0m\u001b[0mA\u001b[0m\u001b[0;34m.\u001b[0m\u001b[0mname\u001b[0m\u001b[0;34m,\u001b[0m\u001b[0mB\u001b[0m\u001b[0;34m.\u001b[0m\u001b[0mname\u001b[0m\u001b[0;34m,\u001b[0m \u001b[0mA\u001b[0m\u001b[0;34m.\u001b[0m\u001b[0mis_older_than\u001b[0m\u001b[0;34m(\u001b[0m\u001b[0mB\u001b[0m\u001b[0;34m)\u001b[0m \u001b[0;34m)\u001b[0m\u001b[0;34m)\u001b[0m\u001b[0;34m\u001b[0m\u001b[0;34m\u001b[0m\u001b[0m\n\u001b[1;32m     10\u001b[0m \u001b[0mA\u001b[0m\u001b[0;34m.\u001b[0m\u001b[0mwhere_do_you_work\u001b[0m\u001b[0;34m(\u001b[0m\u001b[0;34m)\u001b[0m\u001b[0;34m\u001b[0m\u001b[0;34m\u001b[0m\u001b[0m\n\u001b[0;32m---> 11\u001b[0;31m \u001b[0mB\u001b[0m\u001b[0;34m.\u001b[0m\u001b[0mwhere_do_you_work\u001b[0m\u001b[0;34m(\u001b[0m\u001b[0;34m)\u001b[0m\u001b[0;34m\u001b[0m\u001b[0;34m\u001b[0m\u001b[0m\n\u001b[0m",
      "\u001b[0;31mAttributeError\u001b[0m: 'Student' object has no attribute 'where_do_you_work'"
     ]
    }
   ],
   "source": [
    "# class inheritance (subclass inherit attributes (variables, functions) and add new ones)\n",
    "class StudentICGM(Student):\n",
    "    def __init__(self, age, name):\n",
    "        Student.__init__(self, age, name)\n",
    "\n",
    "    def where_do_you_work(self):\n",
    "        print(\"I work at ICGM ! youpi !\")\n",
    "\n",
    "A = StudentICGM(24, \"micheline\")\n",
    "B = Student(12,\"jean_jacques\")\n",
    "print(\"{} is older than {} ? {} !!!\".format(A.name,B.name, A.is_older_than(B) )) # StudentICGM use function & attribute (name) from parent class\n",
    "A.where_do_you_work()   # ok\n",
    "B.where_do_you_work() # error because Student class does not have this function"
   ]
  },
  {
   "cell_type": "markdown",
   "metadata": {},
   "source": [
    "Now you can read Pymatgen source code or any other module and understand what is going on !!!"
   ]
  },
  {
   "cell_type": "markdown",
   "metadata": {},
   "source": [
    "### Exercise\n",
    "Create a class Researcher whith the attributes (Name, Lastname, field, topic)\n",
    "\n",
    "`jean = Researcher(\"Jean\",\"Vergnet\",\"chemistry\",\"anionic redox\")`\n",
    "\n",
    "Create a class function `jean.presentation` which returns \"I'm Jean Vergnet, a chemistry researcher working on anionic redox\"\n",
    "\n",
    "Create a class function `jean.compare_field(another_reasearcher)` which tell if we work on related field or identical topic\n"
   ]
  },
  {
   "cell_type": "code",
   "execution_count": null,
   "metadata": {},
   "outputs": [],
   "source": [
    "# space for exercise !"
   ]
  },
  {
   "cell_type": "code",
   "execution_count": 45,
   "metadata": {},
   "outputs": [],
   "source": [
    "class Researcher():\n",
    "    \n",
    "    def __init__(self,name, lastname, field, topic):\n",
    "        self.name = name\n",
    "        self.lastname = lastname\n",
    "        self.field = field\n",
    "        self.topic = topic\n",
    "\n",
    "    def presentation(self) : \n",
    "        # here we used the string.format() as follow \"{instance.attribute}\".format(instance)\n",
    "        return \"I'm {0.name} {0.lastname}, a {0.field} researcher working on {0.topic}\".format(self)\n",
    "\n",
    "    def compare_field(self, other_researcher) :\n",
    "        if self.field == other_researcher.field : # comparison takes 2 \"=\" (definition takes only one \"=\")\n",
    "            if self.topic == other_researcher.topic :\n",
    "                print(\"{} & {} work in the exact same topic. WOW !\".format(self.name, other_researcher.name))\n",
    "            else :\n",
    "                print(\"{} & {} are doing stuff related, not exactly the same but you know... related\".format(self.name, other_researcher.name))\n",
    "        else :\n",
    "            print(\"{} & {} are doing completely different things !!\".format(self.name, other_researcher.name))\n",
    "            "
   ]
  },
  {
   "cell_type": "code",
   "execution_count": 46,
   "metadata": {},
   "outputs": [
    {
     "name": "stdout",
     "output_type": "stream",
     "text": [
      "\n",
      " I'm Jean Vergnet, a chemistry researcher working on anionic redox\n",
      "\n",
      " I'm Pierre Bourdieu, a Social Sciences researcher working on social reproduction\n",
      "Jean & Pierre are doing completely different things !!\n",
      "\n",
      " I'm Alexander Shulgin, a chemistry researcher working on synthesis\n",
      "Jean & Alexander are doing stuff related, not exactly the same but you know... related\n"
     ]
    }
   ],
   "source": [
    "jean = Researcher(\"Jean\",\"Vergnet\",\"chemistry\",\"anionic redox\")\n",
    "print(\"\\n\",jean.presentation())\n",
    "pierre = Researcher(\"Pierre\",\"Bourdieu\",\"Social Sciences\",\"social reproduction\")\n",
    "print(\"\\n\",pierre.presentation())\n",
    "jean.compare_field(pierre)\n",
    "alexander = Researcher(\"Alexander\",\"Shulgin\",\"chemistry\",\"synthesis\")\n",
    "print(\"\\n\",alexander.presentation())\n",
    "jean.compare_field(alexander)"
   ]
  },
  {
   "cell_type": "markdown",
   "metadata": {},
   "source": [
    "## Modules and libraries\n",
    "__module__ : a .py file which contains Classes, functions and values \n",
    "\n",
    "importing a module = read an external .py file at execution time and allow to acess its functions\n",
    "\n",
    "__library__ : several interdependant modules which allow specific task\n",
    "\n",
    "library can be acessed at the top level (1 module which imports all the others) or more specifically by targeting a sub-module\n",
    "\n",
    "some libraries can use binaries coded in C or fortran for efficiency (math, numpy, scipy, cpython)"
   ]
  },
  {
   "cell_type": "code",
   "execution_count": 14,
   "metadata": {},
   "outputs": [
    {
     "name": "stdout",
     "output_type": "stream",
     "text": [
      "6.907755278982137\n",
      "3269017.3724721107\n"
     ]
    }
   ],
   "source": [
    "import math # import the whole module\n",
    "print(math.log(1000)) # we use the attribute (function) \"log\" of the module math\n",
    "print(math.exp(15))"
   ]
  },
  {
   "cell_type": "code",
   "execution_count": 15,
   "metadata": {},
   "outputs": [
    {
     "data": {
      "text/plain": [
       "3.0"
      ]
     },
     "execution_count": 15,
     "metadata": {},
     "output_type": "execute_result"
    }
   ],
   "source": [
    "from math import log10 # import only the desired function\n",
    "log10(1000) # we use directly the function log10, without reference to its module"
   ]
  },
  {
   "cell_type": "markdown",
   "metadata": {},
   "source": [
    "### Useful standard librairies \n",
    "__os  & shutil__ : navigate and maniputate files and folders (~ bash)\n",
    "\n",
    "__numpy & Scipy__ : heavy number manipulation (matrix) made simple (coded in C => very efficient) "
   ]
  },
  {
   "cell_type": "code",
   "execution_count": 16,
   "metadata": {},
   "outputs": [
    {
     "name": "stdout",
     "output_type": "stream",
     "text": [
      "is dir ? True\n",
      "is file ? False\n",
      "/home/jvergnet/Documents/scripts/read_write/test_python\n"
     ]
    }
   ],
   "source": [
    "import os \n",
    "cwd = os.getcwd()\n",
    "path_to_tmp_folder = os.path.join(cwd,\"test_python\")\n",
    "os.mkdir(path_to_tmp_folder)\n",
    "print(\"is dir ?\",os.path.isdir(path_to_tmp_folder))\n",
    "print(\"is file ?\",os.path.isfile(path_to_tmp_folder))\n",
    "os.chdir(path_to_tmp_folder)\n",
    "print(os.getcwd())"
   ]
  },
  {
   "cell_type": "code",
   "execution_count": 17,
   "metadata": {},
   "outputs": [
    {
     "name": "stdout",
     "output_type": "stream",
     "text": [
      "dir still exist ? False\n"
     ]
    }
   ],
   "source": [
    "import shutil\n",
    "os.chdir(cwd)\n",
    "shutil.rmtree(path_to_tmp_folder)\n",
    "print(\"dir still exist ?\" , os.path.exists(path_to_tmp_folder))\n"
   ]
  },
  {
   "cell_type": "code",
   "execution_count": 48,
   "metadata": {},
   "outputs": [
    {
     "name": "stdout",
     "output_type": "stream",
     "text": [
      "Multi dimensionnal matrices\n",
      "[[0 1 2]\n",
      " [4 7 8]] \n",
      "\n",
      "Vector construction\n",
      "1D -vector\n",
      " [ 0.  2.  4.  6.  8. 10.]\n",
      "\n",
      "2D - matrix\n",
      " [[1. 0. 0. 0.]\n",
      " [0. 1. 0. 0.]\n",
      " [0. 0. 1. 0.]\n",
      " [0. 0. 0. 1.]] \n",
      "\n",
      "\n",
      "3D and more - tensor\n",
      " [[[1. 1. 1. 1.]\n",
      "  [1. 1. 1. 1.]\n",
      "  [1. 1. 1. 1.]]\n",
      "\n",
      " [[1. 1. 1. 1.]\n",
      "  [1. 1. 1. 1.]\n",
      "  [1. 1. 1. 1.]]] \n",
      "\n"
     ]
    }
   ],
   "source": [
    "import numpy as np\n",
    "print(\"Multi dimensionnal matrices\") \n",
    "print(np.array([[0,1,2],[4,7,8]]),\"\\n\")\n",
    "\n",
    "print(\"Vector construction\")\n",
    "print(\"1D -vector\\n\",np.linspace(0,10, num=6))\n",
    "print(\"\\n2D - matrix\\n\",np.eye(4),\"\\n\")\n",
    "print(\"\\n3D and more - tensor\\n\",np.ones((2,3,4)),\"\\n\")\n"
   ]
  },
  {
   "cell_type": "code",
   "execution_count": 19,
   "metadata": {},
   "outputs": [
    {
     "name": "stdout",
     "output_type": "stream",
     "text": [
      "clever indexing \n",
      " select first colum of eye matrix \n",
      " [0. 1. 0. 0.]\n",
      "powerfull operations\n",
      "\n",
      "scalar\n",
      " [[0.70710678 0.         0.         0.        ]\n",
      " [0.         0.70710678 0.         0.        ]\n",
      " [0.         0.         0.70710678 0.        ]\n",
      " [0.         0.         0.         0.70710678]]\n",
      "\n",
      "term by term\n",
      " [[0. 1. 1. 1.]\n",
      " [1. 0. 1. 1.]\n",
      " [1. 1. 0. 1.]\n",
      " [1. 1. 1. 0.]]\n"
     ]
    }
   ],
   "source": [
    "print(\"clever indexing \\n select first colum of eye matrix \\n\", np.eye(4)[:,1] )\n",
    "\n",
    "print(\"powerfull operations\")\n",
    "print(\"\\nscalar\\n\", np.sin(np.eye(4)*np.pi/4))\n",
    "print(\"\\nterm by term\\n\", np.subtract(np.ones((4,4)), np.eye(4)))"
   ]
  }
 ],
 "metadata": {
  "kernelspec": {
   "display_name": "Python 3",
   "language": "python",
   "name": "python3"
  },
  "language_info": {
   "codemirror_mode": {
    "name": "ipython",
    "version": 3
   },
   "file_extension": ".py",
   "mimetype": "text/x-python",
   "name": "python",
   "nbconvert_exporter": "python",
   "pygments_lexer": "ipython3",
   "version": "3.6.9"
  }
 },
 "nbformat": 4,
 "nbformat_minor": 2
}
